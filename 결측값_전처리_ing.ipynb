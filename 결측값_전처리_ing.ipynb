{
  "nbformat": 4,
  "nbformat_minor": 0,
  "metadata": {
    "colab": {
      "name": "결측값 전처리 ing.ipynb",
      "provenance": [],
      "collapsed_sections": [],
      "toc_visible": true,
      "authorship_tag": "ABX9TyPplrnCOHgjEyvo3iURvUxU",
      "include_colab_link": true
    },
    "kernelspec": {
      "name": "python3",
      "display_name": "Python 3"
    }
  },
  "cells": [
    {
      "cell_type": "markdown",
      "metadata": {
        "id": "view-in-github",
        "colab_type": "text"
      },
      "source": [
        "<a href=\"https://colab.research.google.com/github/dohyun-kim92/TIL/blob/master/%EA%B2%B0%EC%B8%A1%EA%B0%92_%EC%A0%84%EC%B2%98%EB%A6%AC_ing.ipynb\" target=\"_parent\"><img src=\"https://colab.research.google.com/assets/colab-badge.svg\" alt=\"Open In Colab\"/></a>"
      ]
    },
    {
      "cell_type": "markdown",
      "metadata": {
        "id": "JttOtS7DYE9V",
        "colab_type": "text"
      },
      "source": [
        "# - df 컬럼명 변경코드  \n",
        "cb = cb.rename({'일자':'date' , '국고채권\\n(10년)':'10rate' }, axis ='columns')\n",
        "\n",
        "\n",
        "## - json 저장\n",
        "cb_all.to_json('treasury_3year_rate_ud.json') \n",
        "\n",
        "\n",
        "## - 데이터 타입변경 시 주의할 점\n",
        "cb['date'].astype(datetime)            -> X  \n",
        "cb['date'] = pd.to_datetime(cb['date']) -> O\n",
        "판다스에서 데이터타입은 astype이 아님 \n",
        "\n",
        "\n",
        "## - fillna 설명 \n",
        "https://rfriend.tistory.com/262\n"
      ]
    },
    {
      "cell_type": "code",
      "metadata": {
        "id": "pLLrXF8mYDiY",
        "colab_type": "code",
        "colab": {}
      },
      "source": [
        ""
      ],
      "execution_count": null,
      "outputs": []
    },
    {
      "cell_type": "code",
      "metadata": {
        "id": "RyUQny8AOV25",
        "colab_type": "code",
        "colab": {}
      },
      "source": [
        "import pandas as pd\n",
        "import datetime"
      ],
      "execution_count": 15,
      "outputs": []
    },
    {
      "cell_type": "code",
      "metadata": {
        "id": "2QYsBlz8OZ6U",
        "colab_type": "code",
        "colab": {
          "base_uri": "https://localhost:8080/",
          "height": 562
        },
        "outputId": "258f1b95-de66-49ab-c89c-d0afbcd25da2"
      },
      "source": [
        "call = pd.read_json(\"call_rate.json\")\n",
        "print(call[:30]) #  첫 30으로 주말 날짜가 비었는지 + 열 확인가능 \n",
        "                 # call은 빈거 없으므로 pass"
      ],
      "execution_count": 16,
      "outputs": [
        {
          "output_type": "stream",
          "text": [
            "         date  rate\n",
            "0  2005-05-01  3.29\n",
            "1  2005-05-02  3.29\n",
            "2  2005-05-03  3.30\n",
            "3  2005-05-04  3.21\n",
            "4  2005-05-05  3.21\n",
            "5  2005-05-06  3.27\n",
            "6  2005-05-07  3.27\n",
            "7  2005-05-08  3.27\n",
            "8  2005-05-09  3.29\n",
            "9  2005-05-10  3.30\n",
            "10 2005-05-11  3.30\n",
            "11 2005-05-12  3.30\n",
            "12 2005-05-13  3.29\n",
            "13 2005-05-14  3.29\n",
            "14 2005-05-15  3.29\n",
            "15 2005-05-16  3.29\n",
            "16 2005-05-17  3.29\n",
            "17 2005-05-18  3.29\n",
            "18 2005-05-19  3.19\n",
            "19 2005-05-20  3.23\n",
            "20 2005-05-21  3.23\n",
            "21 2005-05-22  3.23\n",
            "22 2005-05-23  3.29\n",
            "23 2005-05-24  3.29\n",
            "24 2005-05-25  3.29\n",
            "25 2005-05-26  3.29\n",
            "26 2005-05-27  3.29\n",
            "27 2005-05-28  3.29\n",
            "28 2005-05-29  3.29\n",
            "29 2005-05-30  3.29\n"
          ],
          "name": "stdout"
        }
      ]
    },
    {
      "cell_type": "code",
      "metadata": {
        "id": "7GTD1OveQAof",
        "colab_type": "code",
        "colab": {
          "base_uri": "https://localhost:8080/",
          "height": 1000
        },
        "outputId": "6a7d93fb-200c-4557-e80d-fe85c6b6ec48"
      },
      "source": [
        "cb = pd.read_json(\"cb_rate.json\")\n",
        "print(cb[:30])                  # 빈날짜 확인\n",
        "print(cb)                       # 처음과 끝 확인\n",
        "date_len = pd.period_range(cb[\"date\"][0], cb[\"date\"][3778]) # 기간 사이 몇일이 있는지 알려줌 \n",
        "len(date_len) # ★★★★★ 5월 1일은 따로 추가해야함 \n",
        "              # 확인결과 cb, treasury_10year, treasury_3year가 주말 제외됨  \n",
        "cb"
      ],
      "execution_count": 39,
      "outputs": [
        {
          "output_type": "stream",
          "text": [
            "         date  rate\n",
            "0  2005-05-02  4.19\n",
            "1  2005-05-03  4.16\n",
            "2  2005-05-04  4.17\n",
            "3  2005-05-06  4.18\n",
            "4  2005-05-09  4.19\n",
            "5  2005-05-10  4.20\n",
            "6  2005-05-11  4.20\n",
            "7  2005-05-12  4.17\n",
            "8  2005-05-13  4.13\n",
            "9  2005-05-16  4.10\n",
            "10 2005-05-17  4.10\n",
            "11 2005-05-18  4.08\n",
            "12 2005-05-19  4.07\n",
            "13 2005-05-20  4.08\n",
            "14 2005-05-23  4.10\n",
            "15 2005-05-24  4.07\n",
            "16 2005-05-25  4.05\n",
            "17 2005-05-26  4.04\n",
            "18 2005-05-27  4.11\n",
            "19 2005-05-30  4.11\n",
            "20 2005-05-31  4.08\n",
            "21 2005-06-01  4.04\n",
            "22 2005-06-02  4.02\n",
            "23 2005-06-03  4.02\n",
            "24 2005-06-07  4.06\n",
            "25 2005-06-08  4.06\n",
            "26 2005-06-09  4.06\n",
            "27 2005-06-10  4.09\n",
            "28 2005-06-13  4.20\n",
            "29 2005-06-14  4.19\n",
            "           date  rate\n",
            "0    2005-05-02  4.19\n",
            "1    2005-05-03  4.16\n",
            "2    2005-05-04  4.17\n",
            "3    2005-05-06  4.18\n",
            "4    2005-05-09  4.19\n",
            "...         ...   ...\n",
            "3774 2020-07-17  2.21\n",
            "3775 2020-07-20  2.20\n",
            "3776 2020-07-21  2.21\n",
            "3777 2020-07-22  2.20\n",
            "3778 2020-07-23  2.19\n",
            "\n",
            "[3779 rows x 2 columns]\n"
          ],
          "name": "stdout"
        },
        {
          "output_type": "execute_result",
          "data": {
            "text/html": [
              "<div>\n",
              "<style scoped>\n",
              "    .dataframe tbody tr th:only-of-type {\n",
              "        vertical-align: middle;\n",
              "    }\n",
              "\n",
              "    .dataframe tbody tr th {\n",
              "        vertical-align: top;\n",
              "    }\n",
              "\n",
              "    .dataframe thead th {\n",
              "        text-align: right;\n",
              "    }\n",
              "</style>\n",
              "<table border=\"1\" class=\"dataframe\">\n",
              "  <thead>\n",
              "    <tr style=\"text-align: right;\">\n",
              "      <th></th>\n",
              "      <th>date</th>\n",
              "      <th>rate</th>\n",
              "    </tr>\n",
              "  </thead>\n",
              "  <tbody>\n",
              "    <tr>\n",
              "      <th>0</th>\n",
              "      <td>2005-05-02</td>\n",
              "      <td>4.19</td>\n",
              "    </tr>\n",
              "    <tr>\n",
              "      <th>1</th>\n",
              "      <td>2005-05-03</td>\n",
              "      <td>4.16</td>\n",
              "    </tr>\n",
              "    <tr>\n",
              "      <th>2</th>\n",
              "      <td>2005-05-04</td>\n",
              "      <td>4.17</td>\n",
              "    </tr>\n",
              "    <tr>\n",
              "      <th>3</th>\n",
              "      <td>2005-05-06</td>\n",
              "      <td>4.18</td>\n",
              "    </tr>\n",
              "    <tr>\n",
              "      <th>4</th>\n",
              "      <td>2005-05-09</td>\n",
              "      <td>4.19</td>\n",
              "    </tr>\n",
              "    <tr>\n",
              "      <th>...</th>\n",
              "      <td>...</td>\n",
              "      <td>...</td>\n",
              "    </tr>\n",
              "    <tr>\n",
              "      <th>3774</th>\n",
              "      <td>2020-07-17</td>\n",
              "      <td>2.21</td>\n",
              "    </tr>\n",
              "    <tr>\n",
              "      <th>3775</th>\n",
              "      <td>2020-07-20</td>\n",
              "      <td>2.20</td>\n",
              "    </tr>\n",
              "    <tr>\n",
              "      <th>3776</th>\n",
              "      <td>2020-07-21</td>\n",
              "      <td>2.21</td>\n",
              "    </tr>\n",
              "    <tr>\n",
              "      <th>3777</th>\n",
              "      <td>2020-07-22</td>\n",
              "      <td>2.20</td>\n",
              "    </tr>\n",
              "    <tr>\n",
              "      <th>3778</th>\n",
              "      <td>2020-07-23</td>\n",
              "      <td>2.19</td>\n",
              "    </tr>\n",
              "  </tbody>\n",
              "</table>\n",
              "<p>3779 rows × 2 columns</p>\n",
              "</div>"
            ],
            "text/plain": [
              "           date  rate\n",
              "0    2005-05-02  4.19\n",
              "1    2005-05-03  4.16\n",
              "2    2005-05-04  4.17\n",
              "3    2005-05-06  4.18\n",
              "4    2005-05-09  4.19\n",
              "...         ...   ...\n",
              "3774 2020-07-17  2.21\n",
              "3775 2020-07-20  2.20\n",
              "3776 2020-07-21  2.21\n",
              "3777 2020-07-22  2.20\n",
              "3778 2020-07-23  2.19\n",
              "\n",
              "[3779 rows x 2 columns]"
            ]
          },
          "metadata": {
            "tags": []
          },
          "execution_count": 39
        }
      ]
    },
    {
      "cell_type": "markdown",
      "metadata": {
        "id": "kxDDtxAc0phN",
        "colab_type": "text"
      },
      "source": [
        "-"
      ]
    },
    {
      "cell_type": "code",
      "metadata": {
        "id": "fx4jHUWcOmFN",
        "colab_type": "code",
        "colab": {}
      },
      "source": [
        ""
      ],
      "execution_count": null,
      "outputs": []
    },
    {
      "cell_type": "code",
      "metadata": {
        "id": "lfRExBxHRPij",
        "colab_type": "code",
        "colab": {}
      },
      "source": [
        "# cb[\"date\"][1] + datetime.timedelta(days=1)\n",
        "\n",
        "\n",
        "# for i in range(len(date_len)): # 20 => cb  testnum = 20 -> 날짜 길이 세는거 찾기 \n",
        "#     if cb[\"date\"][i] + datetime.timedelta(days=1) == cb[\"date\"][i+1] :\n",
        "#         pass\n",
        "#     else :\n",
        "#         cb[\"date\"][i+1] = cb[\"date\"][i] + datetime.timedelta(days=1)\n",
        "#         cb[\"rate\"][i+1] = cb[\"rate\"][i] # 위치에 정확히 들어가는거 찾아보기\n",
        "#         # i += 1\n",
        "# cb.head(30)\n",
        "\n",
        "#date 먼저 다만들고 나중에 바꾸는 거도 하나 생각해보기\n",
        " # fillna 와 merge"
      ],
      "execution_count": null,
      "outputs": []
    },
    {
      "cell_type": "code",
      "metadata": {
        "id": "3WNstqqfezAB",
        "colab_type": "code",
        "colab": {}
      },
      "source": [
        ""
      ],
      "execution_count": null,
      "outputs": []
    },
    {
      "cell_type": "markdown",
      "metadata": {
        "id": "y8BuMz__qkuc",
        "colab_type": "text"
      },
      "source": [
        "# 날짜먼저 생성 후 merge로 합친다음 null값 처리하기"
      ]
    },
    {
      "cell_type": "markdown",
      "metadata": {
        "id": "-MdRN3pO4RqG",
        "colab_type": "text"
      },
      "source": [
        "#### 날짜생성"
      ]
    },
    {
      "cell_type": "code",
      "metadata": {
        "id": "R12ZKpuSRqsz",
        "colab_type": "code",
        "colab": {
          "base_uri": "https://localhost:8080/",
          "height": 402
        },
        "outputId": "493b7a23-12d4-4f41-b900-318792562070"
      },
      "source": [
        "# 날짜 생성 코드\n",
        "date_only = pd.DataFrame(\n",
        "    {\n",
        "#    'date': pd.Series(pd.date_range('2005-05-01 00:00', periods=5563, freq='D')  위아래 같은 값나오는 코드\n",
        "    'date': pd.Series(pd.date_range(start = '2005-05-01', end = '2020-07-23'))\n",
        "    })             # 주의할 것은 series 뒤에 pd.period_range 써주면 데이터 타입이 period라 오류 날 수 있으므로 date_range 사용할것\n",
        "date_only.dtypes\n",
        "date_only"
      ],
      "execution_count": null,
      "outputs": [
        {
          "output_type": "execute_result",
          "data": {
            "text/html": [
              "<div>\n",
              "<style scoped>\n",
              "    .dataframe tbody tr th:only-of-type {\n",
              "        vertical-align: middle;\n",
              "    }\n",
              "\n",
              "    .dataframe tbody tr th {\n",
              "        vertical-align: top;\n",
              "    }\n",
              "\n",
              "    .dataframe thead th {\n",
              "        text-align: right;\n",
              "    }\n",
              "</style>\n",
              "<table border=\"1\" class=\"dataframe\">\n",
              "  <thead>\n",
              "    <tr style=\"text-align: right;\">\n",
              "      <th></th>\n",
              "      <th>date</th>\n",
              "    </tr>\n",
              "  </thead>\n",
              "  <tbody>\n",
              "    <tr>\n",
              "      <th>0</th>\n",
              "      <td>2005-05-01</td>\n",
              "    </tr>\n",
              "    <tr>\n",
              "      <th>1</th>\n",
              "      <td>2005-05-02</td>\n",
              "    </tr>\n",
              "    <tr>\n",
              "      <th>2</th>\n",
              "      <td>2005-05-03</td>\n",
              "    </tr>\n",
              "    <tr>\n",
              "      <th>3</th>\n",
              "      <td>2005-05-04</td>\n",
              "    </tr>\n",
              "    <tr>\n",
              "      <th>4</th>\n",
              "      <td>2005-05-05</td>\n",
              "    </tr>\n",
              "    <tr>\n",
              "      <th>...</th>\n",
              "      <td>...</td>\n",
              "    </tr>\n",
              "    <tr>\n",
              "      <th>5558</th>\n",
              "      <td>2020-07-19</td>\n",
              "    </tr>\n",
              "    <tr>\n",
              "      <th>5559</th>\n",
              "      <td>2020-07-20</td>\n",
              "    </tr>\n",
              "    <tr>\n",
              "      <th>5560</th>\n",
              "      <td>2020-07-21</td>\n",
              "    </tr>\n",
              "    <tr>\n",
              "      <th>5561</th>\n",
              "      <td>2020-07-22</td>\n",
              "    </tr>\n",
              "    <tr>\n",
              "      <th>5562</th>\n",
              "      <td>2020-07-23</td>\n",
              "    </tr>\n",
              "  </tbody>\n",
              "</table>\n",
              "<p>5563 rows × 1 columns</p>\n",
              "</div>"
            ],
            "text/plain": [
              "           date\n",
              "0    2005-05-01\n",
              "1    2005-05-02\n",
              "2    2005-05-03\n",
              "3    2005-05-04\n",
              "4    2005-05-05\n",
              "...         ...\n",
              "5558 2020-07-19\n",
              "5559 2020-07-20\n",
              "5560 2020-07-21\n",
              "5561 2020-07-22\n",
              "5562 2020-07-23\n",
              "\n",
              "[5563 rows x 1 columns]"
            ]
          },
          "metadata": {
            "tags": []
          },
          "execution_count": 5
        }
      ]
    },
    {
      "cell_type": "code",
      "metadata": {
        "id": "cFMzV448vJa_",
        "colab_type": "code",
        "colab": {
          "base_uri": "https://localhost:8080/",
          "height": 175
        },
        "outputId": "ca071338-54c0-4da7-b395-3feb4df40b14"
      },
      "source": [
        "cb\n",
        "# merge 전 type 일치하는지 확인 \n",
        "print(type(cb['date'][0]))\n",
        "print(type(date_only['date'][0]))\n",
        "\n",
        "print(\"-\"*40)\n",
        "print(cb.dtypes)\n",
        "print(\"-\"*40)\n",
        "print(date_only.dtypes)\n"
      ],
      "execution_count": null,
      "outputs": [
        {
          "output_type": "stream",
          "text": [
            "<class 'pandas._libs.tslibs.timestamps.Timestamp'>\n",
            "<class 'pandas._libs.tslibs.timestamps.Timestamp'>\n",
            "----------------------------------------\n",
            "date    datetime64[ns]\n",
            "rate           float64\n",
            "dtype: object\n",
            "----------------------------------------\n",
            "date    datetime64[ns]\n",
            "dtype: object\n"
          ],
          "name": "stdout"
        }
      ]
    },
    {
      "cell_type": "markdown",
      "metadata": {
        "id": "6fmkDD-N4O9e",
        "colab_type": "text"
      },
      "source": [
        "#### merge 사용"
      ]
    },
    {
      "cell_type": "code",
      "metadata": {
        "id": "YKUYN9BjSRGo",
        "colab_type": "code",
        "colab": {
          "base_uri": "https://localhost:8080/",
          "height": 402
        },
        "outputId": "2c487592-39f8-4e43-e7ef-24490ef3d683"
      },
      "source": [
        "cb_all = date_only.merge(cb , on = 'date', how = 'left')   # cb_all 자리에쓴게 기준점임.. 이걸기준으로 how 어떤조인할지  \n",
        "# ※주의 cb_all = cd.merge(cb_all , on = 'date', how = 'right') 처럼 cd와 cb_all 자리바꾸고 right로 바꾸면 안됨 !! merge 앞에 쓰는게 기준점임  \n",
        "cb_all[1:30]\n",
        "cb_all\n"
      ],
      "execution_count": null,
      "outputs": [
        {
          "output_type": "execute_result",
          "data": {
            "text/html": [
              "<div>\n",
              "<style scoped>\n",
              "    .dataframe tbody tr th:only-of-type {\n",
              "        vertical-align: middle;\n",
              "    }\n",
              "\n",
              "    .dataframe tbody tr th {\n",
              "        vertical-align: top;\n",
              "    }\n",
              "\n",
              "    .dataframe thead th {\n",
              "        text-align: right;\n",
              "    }\n",
              "</style>\n",
              "<table border=\"1\" class=\"dataframe\">\n",
              "  <thead>\n",
              "    <tr style=\"text-align: right;\">\n",
              "      <th></th>\n",
              "      <th>date</th>\n",
              "      <th>rate</th>\n",
              "    </tr>\n",
              "  </thead>\n",
              "  <tbody>\n",
              "    <tr>\n",
              "      <th>0</th>\n",
              "      <td>2005-05-01</td>\n",
              "      <td>NaN</td>\n",
              "    </tr>\n",
              "    <tr>\n",
              "      <th>1</th>\n",
              "      <td>2005-05-02</td>\n",
              "      <td>4.19</td>\n",
              "    </tr>\n",
              "    <tr>\n",
              "      <th>2</th>\n",
              "      <td>2005-05-03</td>\n",
              "      <td>4.16</td>\n",
              "    </tr>\n",
              "    <tr>\n",
              "      <th>3</th>\n",
              "      <td>2005-05-04</td>\n",
              "      <td>4.17</td>\n",
              "    </tr>\n",
              "    <tr>\n",
              "      <th>4</th>\n",
              "      <td>2005-05-05</td>\n",
              "      <td>NaN</td>\n",
              "    </tr>\n",
              "    <tr>\n",
              "      <th>...</th>\n",
              "      <td>...</td>\n",
              "      <td>...</td>\n",
              "    </tr>\n",
              "    <tr>\n",
              "      <th>5558</th>\n",
              "      <td>2020-07-19</td>\n",
              "      <td>NaN</td>\n",
              "    </tr>\n",
              "    <tr>\n",
              "      <th>5559</th>\n",
              "      <td>2020-07-20</td>\n",
              "      <td>2.20</td>\n",
              "    </tr>\n",
              "    <tr>\n",
              "      <th>5560</th>\n",
              "      <td>2020-07-21</td>\n",
              "      <td>2.21</td>\n",
              "    </tr>\n",
              "    <tr>\n",
              "      <th>5561</th>\n",
              "      <td>2020-07-22</td>\n",
              "      <td>2.20</td>\n",
              "    </tr>\n",
              "    <tr>\n",
              "      <th>5562</th>\n",
              "      <td>2020-07-23</td>\n",
              "      <td>2.19</td>\n",
              "    </tr>\n",
              "  </tbody>\n",
              "</table>\n",
              "<p>5563 rows × 2 columns</p>\n",
              "</div>"
            ],
            "text/plain": [
              "           date  rate\n",
              "0    2005-05-01   NaN\n",
              "1    2005-05-02  4.19\n",
              "2    2005-05-03  4.16\n",
              "3    2005-05-04  4.17\n",
              "4    2005-05-05   NaN\n",
              "...         ...   ...\n",
              "5558 2020-07-19   NaN\n",
              "5559 2020-07-20  2.20\n",
              "5560 2020-07-21  2.21\n",
              "5561 2020-07-22  2.20\n",
              "5562 2020-07-23  2.19\n",
              "\n",
              "[5563 rows x 2 columns]"
            ]
          },
          "metadata": {
            "tags": []
          },
          "execution_count": 7
        }
      ]
    },
    {
      "cell_type": "markdown",
      "metadata": {
        "id": "BfP0TleQ37xl",
        "colab_type": "text"
      },
      "source": [
        "### fillna 설명  \n",
        "https://rfriend.tistory.com/262 "
      ]
    },
    {
      "cell_type": "code",
      "metadata": {
        "id": "HcbkWJUHyC5J",
        "colab_type": "code",
        "colab": {}
      },
      "source": [
        "cb_all = cb_all.fillna(method = \"ffill\") # 빈값은 전날값으로 채움 \n",
        "cb_all = cb_all.fillna(method = \"bfill\") # 5월 1일 전날값이 없으므로 다음날값으로 채움 "
      ],
      "execution_count": null,
      "outputs": []
    },
    {
      "cell_type": "markdown",
      "metadata": {
        "id": "84_k7c-m4_T1",
        "colab_type": "text"
      },
      "source": [
        "## 한달 후 올랐는지 안올랐는지 "
      ]
    },
    {
      "cell_type": "code",
      "metadata": {
        "id": "DeOXKhmjtqMe",
        "colab_type": "code",
        "colab": {
          "base_uri": "https://localhost:8080/",
          "height": 402
        },
        "outputId": "34cf46e5-50da-4d9e-e7b4-d4c044839eb8"
      },
      "source": [
        "cb_all['new_date'] = 0\n",
        "cb_all\n",
        "cb_all.drop('new_date', axis=1, inplace = True) #  ★★★★★★★★★★★★컬럼삭제\n",
        "cb_all['ud'] = None\n",
        "cb_all"
      ],
      "execution_count": null,
      "outputs": [
        {
          "output_type": "execute_result",
          "data": {
            "text/html": [
              "<div>\n",
              "<style scoped>\n",
              "    .dataframe tbody tr th:only-of-type {\n",
              "        vertical-align: middle;\n",
              "    }\n",
              "\n",
              "    .dataframe tbody tr th {\n",
              "        vertical-align: top;\n",
              "    }\n",
              "\n",
              "    .dataframe thead th {\n",
              "        text-align: right;\n",
              "    }\n",
              "</style>\n",
              "<table border=\"1\" class=\"dataframe\">\n",
              "  <thead>\n",
              "    <tr style=\"text-align: right;\">\n",
              "      <th></th>\n",
              "      <th>date</th>\n",
              "      <th>rate</th>\n",
              "      <th>ud</th>\n",
              "    </tr>\n",
              "  </thead>\n",
              "  <tbody>\n",
              "    <tr>\n",
              "      <th>0</th>\n",
              "      <td>2005-05-01</td>\n",
              "      <td>4.19</td>\n",
              "      <td>None</td>\n",
              "    </tr>\n",
              "    <tr>\n",
              "      <th>1</th>\n",
              "      <td>2005-05-02</td>\n",
              "      <td>4.19</td>\n",
              "      <td>None</td>\n",
              "    </tr>\n",
              "    <tr>\n",
              "      <th>2</th>\n",
              "      <td>2005-05-03</td>\n",
              "      <td>4.16</td>\n",
              "      <td>None</td>\n",
              "    </tr>\n",
              "    <tr>\n",
              "      <th>3</th>\n",
              "      <td>2005-05-04</td>\n",
              "      <td>4.17</td>\n",
              "      <td>None</td>\n",
              "    </tr>\n",
              "    <tr>\n",
              "      <th>4</th>\n",
              "      <td>2005-05-05</td>\n",
              "      <td>4.17</td>\n",
              "      <td>None</td>\n",
              "    </tr>\n",
              "    <tr>\n",
              "      <th>...</th>\n",
              "      <td>...</td>\n",
              "      <td>...</td>\n",
              "      <td>...</td>\n",
              "    </tr>\n",
              "    <tr>\n",
              "      <th>5558</th>\n",
              "      <td>2020-07-19</td>\n",
              "      <td>2.21</td>\n",
              "      <td>None</td>\n",
              "    </tr>\n",
              "    <tr>\n",
              "      <th>5559</th>\n",
              "      <td>2020-07-20</td>\n",
              "      <td>2.20</td>\n",
              "      <td>None</td>\n",
              "    </tr>\n",
              "    <tr>\n",
              "      <th>5560</th>\n",
              "      <td>2020-07-21</td>\n",
              "      <td>2.21</td>\n",
              "      <td>None</td>\n",
              "    </tr>\n",
              "    <tr>\n",
              "      <th>5561</th>\n",
              "      <td>2020-07-22</td>\n",
              "      <td>2.20</td>\n",
              "      <td>None</td>\n",
              "    </tr>\n",
              "    <tr>\n",
              "      <th>5562</th>\n",
              "      <td>2020-07-23</td>\n",
              "      <td>2.19</td>\n",
              "      <td>None</td>\n",
              "    </tr>\n",
              "  </tbody>\n",
              "</table>\n",
              "<p>5563 rows × 3 columns</p>\n",
              "</div>"
            ],
            "text/plain": [
              "           date  rate    ud\n",
              "0    2005-05-01  4.19  None\n",
              "1    2005-05-02  4.19  None\n",
              "2    2005-05-03  4.16  None\n",
              "3    2005-05-04  4.17  None\n",
              "4    2005-05-05  4.17  None\n",
              "...         ...   ...   ...\n",
              "5558 2020-07-19  2.21  None\n",
              "5559 2020-07-20  2.20  None\n",
              "5560 2020-07-21  2.21  None\n",
              "5561 2020-07-22  2.20  None\n",
              "5562 2020-07-23  2.19  None\n",
              "\n",
              "[5563 rows x 3 columns]"
            ]
          },
          "metadata": {
            "tags": []
          },
          "execution_count": 9
        }
      ]
    },
    {
      "cell_type": "code",
      "metadata": {
        "id": "o_PmifpmSvGz",
        "colab_type": "code",
        "colab": {}
      },
      "source": [
        ""
      ],
      "execution_count": null,
      "outputs": []
    },
    {
      "cell_type": "markdown",
      "metadata": {
        "id": "-xHFBzEzTdEK",
        "colab_type": "text"
      },
      "source": [
        ""
      ]
    },
    {
      "cell_type": "code",
      "metadata": {
        "id": "Rb2YLoknq7bc",
        "colab_type": "code",
        "colab": {
          "base_uri": "https://localhost:8080/",
          "height": 578
        },
        "outputId": "c86b62f8-6c4d-4f3d-f686-3cb1b7ea10ed"
      },
      "source": [
        "for i in range(len(cb_all)-28) : #len(cb_all)-28\n",
        "    if cb_all['rate'][i+28] - cb_all['rate'][i] >= 0 : # up일때\n",
        "        cb_all[\"ud\"][i] = \"up\"\n",
        "        # print(\"1달 후 올랐습니다.\\n현재 날짜 : {}, 현재금리 : {}, 1달 후 날짜 : {}, 1달 후 금리 : {}\".format(cb_all['date'][i],cb_all['rate'][i],cb_all['date'][i+30], cb_all['rate'][i+30]))\n",
        "    elif cb_all['rate'][i+28] - cb_all['rate'][i] < 0 : # down일때\n",
        "        cb_all[\"ud\"][i] = \"down\"\n",
        "        # print(\"1달 후 내렸습니다.\\n현재 날짜 : {}, 현재금리 : {}, 1달 후 날짜 : {}, 1달 후 금리 : {}\".format(cb_all['date'][i],cb_all['rate'][i],cb_all['date'][i+30], cb_all['rate'][i+30]))\n",
        "    else :\n",
        "        print(\"뭔가 이상합니다\")\n",
        "cb_all[:28]\n",
        "cb_all"
      ],
      "execution_count": 41,
      "outputs": [
        {
          "output_type": "stream",
          "text": [
            "/usr/local/lib/python3.6/dist-packages/ipykernel_launcher.py:6: SettingWithCopyWarning: \n",
            "A value is trying to be set on a copy of a slice from a DataFrame\n",
            "\n",
            "See the caveats in the documentation: https://pandas.pydata.org/pandas-docs/stable/user_guide/indexing.html#returning-a-view-versus-a-copy\n",
            "  \n",
            "/usr/local/lib/python3.6/dist-packages/ipykernel_launcher.py:3: SettingWithCopyWarning: \n",
            "A value is trying to be set on a copy of a slice from a DataFrame\n",
            "\n",
            "See the caveats in the documentation: https://pandas.pydata.org/pandas-docs/stable/user_guide/indexing.html#returning-a-view-versus-a-copy\n",
            "  This is separate from the ipykernel package so we can avoid doing imports until\n"
          ],
          "name": "stderr"
        },
        {
          "output_type": "execute_result",
          "data": {
            "text/html": [
              "<div>\n",
              "<style scoped>\n",
              "    .dataframe tbody tr th:only-of-type {\n",
              "        vertical-align: middle;\n",
              "    }\n",
              "\n",
              "    .dataframe tbody tr th {\n",
              "        vertical-align: top;\n",
              "    }\n",
              "\n",
              "    .dataframe thead th {\n",
              "        text-align: right;\n",
              "    }\n",
              "</style>\n",
              "<table border=\"1\" class=\"dataframe\">\n",
              "  <thead>\n",
              "    <tr style=\"text-align: right;\">\n",
              "      <th></th>\n",
              "      <th>date</th>\n",
              "      <th>rate</th>\n",
              "      <th>ud</th>\n",
              "    </tr>\n",
              "  </thead>\n",
              "  <tbody>\n",
              "    <tr>\n",
              "      <th>0</th>\n",
              "      <td>2005-05-01</td>\n",
              "      <td>4.19</td>\n",
              "      <td>down</td>\n",
              "    </tr>\n",
              "    <tr>\n",
              "      <th>1</th>\n",
              "      <td>2005-05-02</td>\n",
              "      <td>4.19</td>\n",
              "      <td>down</td>\n",
              "    </tr>\n",
              "    <tr>\n",
              "      <th>2</th>\n",
              "      <td>2005-05-03</td>\n",
              "      <td>4.16</td>\n",
              "      <td>down</td>\n",
              "    </tr>\n",
              "    <tr>\n",
              "      <th>3</th>\n",
              "      <td>2005-05-04</td>\n",
              "      <td>4.17</td>\n",
              "      <td>down</td>\n",
              "    </tr>\n",
              "    <tr>\n",
              "      <th>4</th>\n",
              "      <td>2005-05-05</td>\n",
              "      <td>4.17</td>\n",
              "      <td>down</td>\n",
              "    </tr>\n",
              "    <tr>\n",
              "      <th>...</th>\n",
              "      <td>...</td>\n",
              "      <td>...</td>\n",
              "      <td>...</td>\n",
              "    </tr>\n",
              "    <tr>\n",
              "      <th>5558</th>\n",
              "      <td>2020-07-19</td>\n",
              "      <td>2.21</td>\n",
              "      <td>None</td>\n",
              "    </tr>\n",
              "    <tr>\n",
              "      <th>5559</th>\n",
              "      <td>2020-07-20</td>\n",
              "      <td>2.20</td>\n",
              "      <td>None</td>\n",
              "    </tr>\n",
              "    <tr>\n",
              "      <th>5560</th>\n",
              "      <td>2020-07-21</td>\n",
              "      <td>2.21</td>\n",
              "      <td>None</td>\n",
              "    </tr>\n",
              "    <tr>\n",
              "      <th>5561</th>\n",
              "      <td>2020-07-22</td>\n",
              "      <td>2.20</td>\n",
              "      <td>None</td>\n",
              "    </tr>\n",
              "    <tr>\n",
              "      <th>5562</th>\n",
              "      <td>2020-07-23</td>\n",
              "      <td>2.19</td>\n",
              "      <td>None</td>\n",
              "    </tr>\n",
              "  </tbody>\n",
              "</table>\n",
              "<p>5563 rows × 3 columns</p>\n",
              "</div>"
            ],
            "text/plain": [
              "           date  rate    ud\n",
              "0    2005-05-01  4.19  down\n",
              "1    2005-05-02  4.19  down\n",
              "2    2005-05-03  4.16  down\n",
              "3    2005-05-04  4.17  down\n",
              "4    2005-05-05  4.17  down\n",
              "...         ...   ...   ...\n",
              "5558 2020-07-19  2.21  None\n",
              "5559 2020-07-20  2.20  None\n",
              "5560 2020-07-21  2.21  None\n",
              "5561 2020-07-22  2.20  None\n",
              "5562 2020-07-23  2.19  None\n",
              "\n",
              "[5563 rows x 3 columns]"
            ]
          },
          "metadata": {
            "tags": []
          },
          "execution_count": 41
        }
      ]
    },
    {
      "cell_type": "code",
      "metadata": {
        "id": "gejL-_yXRIlJ",
        "colab_type": "code",
        "colab": {
          "base_uri": "https://localhost:8080/",
          "height": 169
        },
        "outputId": "ce216bd6-60f3-41f1-bd3f-ea8a160ad168"
      },
      "source": [
        "cb_all.to_json('cb_rate_ud.json') "
      ],
      "execution_count": 2,
      "outputs": [
        {
          "output_type": "error",
          "ename": "NameError",
          "evalue": "ignored",
          "traceback": [
            "\u001b[0;31m---------------------------------------------------------------------------\u001b[0m",
            "\u001b[0;31mNameError\u001b[0m                                 Traceback (most recent call last)",
            "\u001b[0;32m<ipython-input-2-d26a5544a621>\u001b[0m in \u001b[0;36m<module>\u001b[0;34m()\u001b[0m\n\u001b[0;32m----> 1\u001b[0;31m \u001b[0mcb_all\u001b[0m\u001b[0;34m.\u001b[0m\u001b[0mto_json\u001b[0m\u001b[0;34m(\u001b[0m\u001b[0;34m'cb_rate_ud.json'\u001b[0m\u001b[0;34m)\u001b[0m\u001b[0;34m\u001b[0m\u001b[0;34m\u001b[0m\u001b[0m\n\u001b[0m",
            "\u001b[0;31mNameError\u001b[0m: name 'cb_all' is not defined"
          ]
        }
      ]
    },
    {
      "cell_type": "code",
      "metadata": {
        "id": "wBz_o6LCV9Kg",
        "colab_type": "code",
        "colab": {
          "base_uri": "https://localhost:8080/",
          "height": 809
        },
        "outputId": "f75c4bd0-41e0-48b3-9024-715c73554c64"
      },
      "source": [
        "cb = pd.read_json(\"call_rate.json\")\n",
        "print(cb[:30])                  # 빈날짜 확인\n",
        "print(cb)                       # 처음과 끝 확인\n"
      ],
      "execution_count": 5,
      "outputs": [
        {
          "output_type": "stream",
          "text": [
            "         date  rate\n",
            "0  2005-05-01  3.29\n",
            "1  2005-05-02  3.29\n",
            "2  2005-05-03  3.30\n",
            "3  2005-05-04  3.21\n",
            "4  2005-05-05  3.21\n",
            "5  2005-05-06  3.27\n",
            "6  2005-05-07  3.27\n",
            "7  2005-05-08  3.27\n",
            "8  2005-05-09  3.29\n",
            "9  2005-05-10  3.30\n",
            "10 2005-05-11  3.30\n",
            "11 2005-05-12  3.30\n",
            "12 2005-05-13  3.29\n",
            "13 2005-05-14  3.29\n",
            "14 2005-05-15  3.29\n",
            "15 2005-05-16  3.29\n",
            "16 2005-05-17  3.29\n",
            "17 2005-05-18  3.29\n",
            "18 2005-05-19  3.19\n",
            "19 2005-05-20  3.23\n",
            "20 2005-05-21  3.23\n",
            "21 2005-05-22  3.23\n",
            "22 2005-05-23  3.29\n",
            "23 2005-05-24  3.29\n",
            "24 2005-05-25  3.29\n",
            "25 2005-05-26  3.29\n",
            "26 2005-05-27  3.29\n",
            "27 2005-05-28  3.29\n",
            "28 2005-05-29  3.29\n",
            "29 2005-05-30  3.29\n",
            "           date  rate\n",
            "0    2005-05-01  3.29\n",
            "1    2005-05-02  3.29\n",
            "2    2005-05-03  3.30\n",
            "3    2005-05-04  3.21\n",
            "4    2005-05-05  3.21\n",
            "...         ...   ...\n",
            "4623 2017-12-27  1.51\n",
            "4624 2017-12-28  1.55\n",
            "4625 2017-12-29  1.58\n",
            "4626 2017-12-30  1.58\n",
            "4627 2017-12-31  1.58\n",
            "\n",
            "[4628 rows x 2 columns]\n"
          ],
          "name": "stdout"
        }
      ]
    },
    {
      "cell_type": "markdown",
      "metadata": {
        "id": "3vb1nlqDUlzl",
        "colab_type": "text"
      },
      "source": [
        "# 자이제 다른거 다뽑아보자~"
      ]
    },
    {
      "cell_type": "code",
      "metadata": {
        "id": "34z9JsX7thOe",
        "colab_type": "code",
        "colab": {
          "base_uri": "https://localhost:8080/",
          "height": 950
        },
        "outputId": "41d2d7b1-2025-4db0-f078-5d546e44de91"
      },
      "source": [
        "cb = pd.read_json(\"treasury_3year.json\")\n",
        "# ※※※※※※※※※※※※※※※※※※※※※ 컬럼명이 date, rate가 아닐경우 바꿔줌 ※※※※※※※※※※※※※※※※※※※※※※※※※\n",
        "cb = cb.rename({'일자':'date', '국고채권\\n(10년)':'rate' }, axis ='columns')\n",
        "cb['date'] = pd.to_datetime(cb['date'])\n",
        "\n",
        "print(cb[:30])                  # 빈날짜 확인\n",
        "print(cb)                       # 처음과 끝 확인\n",
        "date_len = pd.period_range(cb[\"date\"][0], cb[\"date\"][3778]) # 기간 사이 몇일이 있는지 알려줌 \n",
        "len(date_len) # 5월 1일은 따로 추가해야함 \n",
        "              # 확인결과 cb, treasury_10year, treasury_3year가 주말 제외됨  \n",
        "cb\n",
        "\n",
        "\n",
        "# 날짜 생성 코드 # 수익률의 표준편차는 변동성 \n",
        "date_only = pd.DataFrame(\n",
        "    {\n",
        "#    'date': pd.Series(pd.date_range('2005-05-01 00:00', periods=5563, freq='D')  위아래 같은 값나오는 코드\n",
        "    'date': pd.Series(pd.date_range(start = '2005-05-01', end = '2020-07-23'))\n",
        "    })             # 주의할 것은 series 뒤에 pd.period_range 써주면 데이터 타입이 period라 오류 날 수 있으므로 date_range 사용할것\n",
        "date_only.dtypes\n",
        "date_only\n",
        "\n",
        "\n",
        "cb_all = date_only.merge(cb , on = 'date', how = 'left')   # cb_all 자리에쓴게 기준점임.. 이걸기준으로 how 어떤조인할지  \n",
        "# ※주의 cb_all = cd.merge(cb_all , on = 'date', how = 'right') 처럼 cd와 cb_all 자리바꾸고 right로 바꾸면 안됨 !! merge 앞에 쓰는게 기준점임  \n",
        "cb_all[1:30]\n",
        "cb_all\n",
        "\n",
        "\n",
        "cb_all = cb_all.fillna(method = \"ffill\") # 빈값은 전날값으로 채움 \n",
        "cb_all = cb_all.fillna(method = \"bfill\") # 5월 1일 전날값이 없으므로 다음날값으로 채움 \n",
        "\n",
        "cb_all['new_date'] = 0\n",
        "cb_all\n",
        "cb_all.drop('new_date', axis=1, inplace = True) #  ★★★★★★★★★★★★컬럼삭제\n",
        "cb_all['ud'] = None\n",
        "cb_all\n",
        "\n",
        "\n",
        "for i in range(len(cb_all)-28) : #len(cb_all)-28\n",
        "    if cb_all['rate'][i+28] - cb_all['rate'][i] >= 0 : # up일때\n",
        "        cb_all[\"ud\"][i] = \"up\"\n",
        "        # print(\"1달 후 올랐습니다.\\n현재 날짜 : {}, 현재금리 : {}, 1달 후 날짜 : {}, 1달 후 금리 : {}\".format(cb_all['date'][i],cb_all['rate'][i],cb_all['date'][i+30], cb_all['rate'][i+30]))\n",
        "    elif cb_all['rate'][i+28] - cb_all['rate'][i] < 0 : # down일때\n",
        "        cb_all[\"ud\"][i] = \"down\"\n",
        "        # print(\"1달 후 내렸습니다.\\n현재 날짜 : {}, 현재금리 : {}, 1달 후 날짜 : {}, 1달 후 금리 : {}\".format(cb_all['date'][i],cb_all['rate'][i],cb_all['date'][i+30], cb_all['rate'][i+30]))\n",
        "    else :\n",
        "        print(\"뭔가 이상합니다\")\n",
        "cb_all[:28]\n",
        "cb_all\n",
        "\n",
        "\n",
        "cb_all.to_json('treasury_3year_rate_ud.json') "
      ],
      "execution_count": 35,
      "outputs": [
        {
          "output_type": "stream",
          "text": [
            "         date  rate\n",
            "0  2005-04-29  3.76\n",
            "1  2005-05-02  3.78\n",
            "2  2005-05-03  3.76\n",
            "3  2005-05-04  3.77\n",
            "4  2005-05-06  3.77\n",
            "5  2005-05-09  3.78\n",
            "6  2005-05-10  3.78\n",
            "7  2005-05-11  3.78\n",
            "8  2005-05-12  3.75\n",
            "9  2005-05-13  3.72\n",
            "10 2005-05-16  3.69\n",
            "11 2005-05-17  3.69\n",
            "12 2005-05-18  3.67\n",
            "13 2005-05-19  3.65\n",
            "14 2005-05-20  3.66\n",
            "15 2005-05-23  3.68\n",
            "16 2005-05-24  3.65\n",
            "17 2005-05-25  3.63\n",
            "18 2005-05-26  3.62\n",
            "19 2005-05-27  3.70\n",
            "20 2005-05-30  3.70\n",
            "21 2005-05-31  3.67\n",
            "22 2005-06-01  3.63\n",
            "23 2005-06-02  3.61\n",
            "24 2005-06-03  3.61\n",
            "25 2005-06-07  3.65\n",
            "26 2005-06-08  3.65\n",
            "27 2005-06-09  3.65\n",
            "28 2005-06-10  3.68\n",
            "29 2005-06-13  3.80\n",
            "           date  rate\n",
            "0    2005-04-29  3.76\n",
            "1    2005-05-02  3.78\n",
            "2    2005-05-03  3.76\n",
            "3    2005-05-04  3.77\n",
            "4    2005-05-06  3.77\n",
            "...         ...   ...\n",
            "3775 2020-07-17  0.81\n",
            "3776 2020-07-20  0.80\n",
            "3777 2020-07-21  0.81\n",
            "3778 2020-07-22  0.81\n",
            "3779 2020-07-23  0.79\n",
            "\n",
            "[3780 rows x 2 columns]\n"
          ],
          "name": "stdout"
        },
        {
          "output_type": "stream",
          "text": [
            "/usr/local/lib/python3.6/dist-packages/ipykernel_launcher.py:45: SettingWithCopyWarning: \n",
            "A value is trying to be set on a copy of a slice from a DataFrame\n",
            "\n",
            "See the caveats in the documentation: https://pandas.pydata.org/pandas-docs/stable/user_guide/indexing.html#returning-a-view-versus-a-copy\n",
            "/usr/local/lib/python3.6/dist-packages/ipykernel_launcher.py:42: SettingWithCopyWarning: \n",
            "A value is trying to be set on a copy of a slice from a DataFrame\n",
            "\n",
            "See the caveats in the documentation: https://pandas.pydata.org/pandas-docs/stable/user_guide/indexing.html#returning-a-view-versus-a-copy\n"
          ],
          "name": "stderr"
        }
      ]
    },
    {
      "cell_type": "code",
      "metadata": {
        "id": "dQBsBS4HWoiv",
        "colab_type": "code",
        "colab": {
          "base_uri": "https://localhost:8080/",
          "height": 1000
        },
        "outputId": "64be1357-60a3-4d5c-b43f-73bcc001d46d"
      },
      "source": [
        "cb = pd.read_json(\"treasury_10year.json\")\n",
        "print(cb[:30])                  # 빈날짜 확인\n",
        "print(cb)                       # 처음과 끝 확인\n",
        "\n",
        "# date_len = pd.period_range(cb[\"date\"][0], cb[\"date\"][3778]) # 기간 사이 몇일이 있는지 알려줌 \n",
        "# len(date_len) # ★★★★★ 5월 1일은 따로 추가해야함 \n",
        "#               # 확인결과 cb, treasury_10year, treasury_3year가 주말 제외됨  \n",
        "# cb\n",
        "\n",
        "cb = cb.rename({'일자':'date' , '국고채권\\n(10년)':'rate' }, axis ='columns')\n",
        "cb\n",
        "\n"
      ],
      "execution_count": 13,
      "outputs": [
        {
          "output_type": "stream",
          "text": [
            "            일자  국고채권\\n(10년)\n",
            "0   2005-01-03         3.93\n",
            "1   2005-01-04         3.99\n",
            "2   2005-01-05         4.00\n",
            "3   2005-01-06         4.13\n",
            "4   2005-01-07         4.13\n",
            "5   2005-01-10         4.16\n",
            "6   2005-01-11         4.31\n",
            "7   2005-01-12         4.32\n",
            "8   2005-01-13         4.38\n",
            "9   2005-01-14         4.52\n",
            "10  2005-01-17         4.63\n",
            "11  2005-01-18         4.47\n",
            "12  2005-01-19         4.44\n",
            "13  2005-01-20         4.46\n",
            "14  2005-01-21         4.68\n",
            "15  2005-01-24         4.69\n",
            "16  2005-01-25         4.67\n",
            "17  2005-01-26         4.66\n",
            "18  2005-01-27         4.63\n",
            "19  2005-01-28         4.75\n",
            "20  2005-01-31         4.85\n",
            "21  2005-02-01         4.80\n",
            "22  2005-02-02         4.80\n",
            "23  2005-02-03         4.80\n",
            "24  2005-02-04         4.87\n",
            "25  2005-02-07         4.99\n",
            "26  2005-02-11         5.11\n",
            "27  2005-02-14         5.09\n",
            "28  2005-02-15         4.97\n",
            "29  2005-02-16         4.88\n",
            "              일자  국고채권\\n(10년)\n",
            "0     2005-01-03        3.930\n",
            "1     2005-01-04        3.990\n",
            "2     2005-01-05        4.000\n",
            "3     2005-01-06        4.130\n",
            "4     2005-01-07        4.130\n",
            "...          ...          ...\n",
            "3860  2020-07-20        1.334\n",
            "3861  2020-07-21        1.356\n",
            "3862  2020-07-22        1.346\n",
            "3863  2020-07-23        1.318\n",
            "3864  2020-07-24        1.305\n",
            "\n",
            "[3865 rows x 2 columns]\n"
          ],
          "name": "stdout"
        },
        {
          "output_type": "execute_result",
          "data": {
            "text/html": [
              "<div>\n",
              "<style scoped>\n",
              "    .dataframe tbody tr th:only-of-type {\n",
              "        vertical-align: middle;\n",
              "    }\n",
              "\n",
              "    .dataframe tbody tr th {\n",
              "        vertical-align: top;\n",
              "    }\n",
              "\n",
              "    .dataframe thead th {\n",
              "        text-align: right;\n",
              "    }\n",
              "</style>\n",
              "<table border=\"1\" class=\"dataframe\">\n",
              "  <thead>\n",
              "    <tr style=\"text-align: right;\">\n",
              "      <th></th>\n",
              "      <th>date</th>\n",
              "      <th>10rate</th>\n",
              "    </tr>\n",
              "  </thead>\n",
              "  <tbody>\n",
              "    <tr>\n",
              "      <th>0</th>\n",
              "      <td>2005-01-03</td>\n",
              "      <td>3.930</td>\n",
              "    </tr>\n",
              "    <tr>\n",
              "      <th>1</th>\n",
              "      <td>2005-01-04</td>\n",
              "      <td>3.990</td>\n",
              "    </tr>\n",
              "    <tr>\n",
              "      <th>2</th>\n",
              "      <td>2005-01-05</td>\n",
              "      <td>4.000</td>\n",
              "    </tr>\n",
              "    <tr>\n",
              "      <th>3</th>\n",
              "      <td>2005-01-06</td>\n",
              "      <td>4.130</td>\n",
              "    </tr>\n",
              "    <tr>\n",
              "      <th>4</th>\n",
              "      <td>2005-01-07</td>\n",
              "      <td>4.130</td>\n",
              "    </tr>\n",
              "    <tr>\n",
              "      <th>...</th>\n",
              "      <td>...</td>\n",
              "      <td>...</td>\n",
              "    </tr>\n",
              "    <tr>\n",
              "      <th>3860</th>\n",
              "      <td>2020-07-20</td>\n",
              "      <td>1.334</td>\n",
              "    </tr>\n",
              "    <tr>\n",
              "      <th>3861</th>\n",
              "      <td>2020-07-21</td>\n",
              "      <td>1.356</td>\n",
              "    </tr>\n",
              "    <tr>\n",
              "      <th>3862</th>\n",
              "      <td>2020-07-22</td>\n",
              "      <td>1.346</td>\n",
              "    </tr>\n",
              "    <tr>\n",
              "      <th>3863</th>\n",
              "      <td>2020-07-23</td>\n",
              "      <td>1.318</td>\n",
              "    </tr>\n",
              "    <tr>\n",
              "      <th>3864</th>\n",
              "      <td>2020-07-24</td>\n",
              "      <td>1.305</td>\n",
              "    </tr>\n",
              "  </tbody>\n",
              "</table>\n",
              "<p>3865 rows × 2 columns</p>\n",
              "</div>"
            ],
            "text/plain": [
              "            date  10rate\n",
              "0     2005-01-03   3.930\n",
              "1     2005-01-04   3.990\n",
              "2     2005-01-05   4.000\n",
              "3     2005-01-06   4.130\n",
              "4     2005-01-07   4.130\n",
              "...          ...     ...\n",
              "3860  2020-07-20   1.334\n",
              "3861  2020-07-21   1.356\n",
              "3862  2020-07-22   1.346\n",
              "3863  2020-07-23   1.318\n",
              "3864  2020-07-24   1.305\n",
              "\n",
              "[3865 rows x 2 columns]"
            ]
          },
          "metadata": {
            "tags": []
          },
          "execution_count": 13
        }
      ]
    },
    {
      "cell_type": "code",
      "metadata": {
        "id": "cDj-mbSoXOTI",
        "colab_type": "code",
        "colab": {
          "base_uri": "https://localhost:8080/",
          "height": 193
        },
        "outputId": "78001fb4-0cad-41e1-e5b8-81e817ecf82b"
      },
      "source": [
        "# treasury는 date type이 object \n",
        "\n",
        "print(cb.dtypes)\n",
        "\n",
        "print(date_only.dtypes)\n",
        "#\n",
        "# cb['date'].astype(datetime)\n",
        "\n",
        "cb['date'] = pd.to_datetime(cb['date'])\n",
        "print(cb.dtypes)\n",
        "\n",
        "print(date_only.dtypes)\n",
        "\n"
      ],
      "execution_count": 33,
      "outputs": [
        {
          "output_type": "stream",
          "text": [
            "date    datetime64[ns]\n",
            "rate           float64\n",
            "dtype: object\n",
            "date    datetime64[ns]\n",
            "dtype: object\n",
            "date    datetime64[ns]\n",
            "rate           float64\n",
            "dtype: object\n",
            "date    datetime64[ns]\n",
            "dtype: object\n"
          ],
          "name": "stdout"
        }
      ]
    },
    {
      "cell_type": "code",
      "metadata": {
        "id": "gvtWhFhAfurF",
        "colab_type": "code",
        "colab": {}
      },
      "source": [
        ""
      ],
      "execution_count": 35,
      "outputs": []
    },
    {
      "cell_type": "code",
      "metadata": {
        "id": "ZDjN6qjhhAgO",
        "colab_type": "code",
        "colab": {}
      },
      "source": [
        ""
      ],
      "execution_count": null,
      "outputs": []
    }
  ]
}