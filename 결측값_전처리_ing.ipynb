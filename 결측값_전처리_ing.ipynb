{
  "nbformat": 4,
  "nbformat_minor": 0,
  "metadata": {
    "colab": {
      "name": "결측값 전처리 ing.ipynb",
      "provenance": [],
      "collapsed_sections": [],
      "toc_visible": true,
      "authorship_tag": "ABX9TyO22FfF1knk6Oi9RTg7JZt5",
      "include_colab_link": true
    },
    "kernelspec": {
      "name": "python3",
      "display_name": "Python 3"
    }
  },
  "cells": [
    {
      "cell_type": "markdown",
      "metadata": {
        "id": "view-in-github",
        "colab_type": "text"
      },
      "source": [
        "<a href=\"https://colab.research.google.com/github/dohyun-kim92/TIL/blob/master/%EA%B2%B0%EC%B8%A1%EA%B0%92_%EC%A0%84%EC%B2%98%EB%A6%AC_ing.ipynb\" target=\"_parent\"><img src=\"https://colab.research.google.com/assets/colab-badge.svg\" alt=\"Open In Colab\"/></a>"
      ]
    },
    {
      "cell_type": "code",
      "metadata": {
        "id": "RyUQny8AOV25",
        "colab_type": "code",
        "colab": {}
      },
      "source": [
        "import pandas as pd\n",
        "import datetime"
      ],
      "execution_count": 1,
      "outputs": []
    },
    {
      "cell_type": "code",
      "metadata": {
        "id": "2QYsBlz8OZ6U",
        "colab_type": "code",
        "colab": {
          "base_uri": "https://localhost:8080/",
          "height": 562
        },
        "outputId": "0fb91ce4-f95c-4b98-89f1-d689604da66b"
      },
      "source": [
        "call = pd.read_json(\"call_rate.json\")\n",
        "print(call[:30]) #  첫 30으로 주말 날짜가 비었는지 + 열 확인가능 \n",
        "                 # call은 빈거 없으므로 pass"
      ],
      "execution_count": 5,
      "outputs": [
        {
          "output_type": "stream",
          "text": [
            "         date  rate\n",
            "0  2005-05-01  3.29\n",
            "1  2005-05-02  3.29\n",
            "2  2005-05-03  3.30\n",
            "3  2005-05-04  3.21\n",
            "4  2005-05-05  3.21\n",
            "5  2005-05-06  3.27\n",
            "6  2005-05-07  3.27\n",
            "7  2005-05-08  3.27\n",
            "8  2005-05-09  3.29\n",
            "9  2005-05-10  3.30\n",
            "10 2005-05-11  3.30\n",
            "11 2005-05-12  3.30\n",
            "12 2005-05-13  3.29\n",
            "13 2005-05-14  3.29\n",
            "14 2005-05-15  3.29\n",
            "15 2005-05-16  3.29\n",
            "16 2005-05-17  3.29\n",
            "17 2005-05-18  3.29\n",
            "18 2005-05-19  3.19\n",
            "19 2005-05-20  3.23\n",
            "20 2005-05-21  3.23\n",
            "21 2005-05-22  3.23\n",
            "22 2005-05-23  3.29\n",
            "23 2005-05-24  3.29\n",
            "24 2005-05-25  3.29\n",
            "25 2005-05-26  3.29\n",
            "26 2005-05-27  3.29\n",
            "27 2005-05-28  3.29\n",
            "28 2005-05-29  3.29\n",
            "29 2005-05-30  3.29\n"
          ],
          "name": "stdout"
        }
      ]
    },
    {
      "cell_type": "code",
      "metadata": {
        "id": "7GTD1OveQAof",
        "colab_type": "code",
        "colab": {
          "base_uri": "https://localhost:8080/",
          "height": 826
        },
        "outputId": "975ac399-f5ad-4013-e655-fd9183549501"
      },
      "source": [
        "cb = pd.read_json(\"cb_rate.json\")\n",
        "print(cb[:30])                  # 빈날짜 확인\n",
        "print(cb)                       # 처음과 끝 확인\n",
        "date_len = pd.period_range(cb[\"date\"][0], cb[\"date\"][3778]) # 기간 사이 몇일이 있는지 알려줌 \n",
        "len(date_len) # ★★★★★ 5월 1일은 따로 추가해야함 \n",
        "              # 확인결과 cb, treasury_10year, treasury_3year가 주말 제외됨  "
      ],
      "execution_count": 8,
      "outputs": [
        {
          "output_type": "stream",
          "text": [
            "         date  rate\n",
            "0  2005-05-02  4.19\n",
            "1  2005-05-03  4.16\n",
            "2  2005-05-04  4.17\n",
            "3  2005-05-06  4.18\n",
            "4  2005-05-09  4.19\n",
            "5  2005-05-10  4.20\n",
            "6  2005-05-11  4.20\n",
            "7  2005-05-12  4.17\n",
            "8  2005-05-13  4.13\n",
            "9  2005-05-16  4.10\n",
            "10 2005-05-17  4.10\n",
            "11 2005-05-18  4.08\n",
            "12 2005-05-19  4.07\n",
            "13 2005-05-20  4.08\n",
            "14 2005-05-23  4.10\n",
            "15 2005-05-24  4.07\n",
            "16 2005-05-25  4.05\n",
            "17 2005-05-26  4.04\n",
            "18 2005-05-27  4.11\n",
            "19 2005-05-30  4.11\n",
            "20 2005-05-31  4.08\n",
            "21 2005-06-01  4.04\n",
            "22 2005-06-02  4.02\n",
            "23 2005-06-03  4.02\n",
            "24 2005-06-07  4.06\n",
            "25 2005-06-08  4.06\n",
            "26 2005-06-09  4.06\n",
            "27 2005-06-10  4.09\n",
            "28 2005-06-13  4.20\n",
            "29 2005-06-14  4.19\n",
            "           date  rate\n",
            "0    2005-05-02  4.19\n",
            "1    2005-05-03  4.16\n",
            "2    2005-05-04  4.17\n",
            "3    2005-05-06  4.18\n",
            "4    2005-05-09  4.19\n",
            "...         ...   ...\n",
            "3774 2020-07-17  2.21\n",
            "3775 2020-07-20  2.20\n",
            "3776 2020-07-21  2.21\n",
            "3777 2020-07-22  2.20\n",
            "3778 2020-07-23  2.19\n",
            "\n",
            "[3779 rows x 2 columns]\n"
          ],
          "name": "stdout"
        },
        {
          "output_type": "execute_result",
          "data": {
            "text/plain": [
              "5562"
            ]
          },
          "metadata": {
            "tags": []
          },
          "execution_count": 8
        }
      ]
    },
    {
      "cell_type": "markdown",
      "metadata": {
        "id": "kxDDtxAc0phN",
        "colab_type": "text"
      },
      "source": [
        "-"
      ]
    },
    {
      "cell_type": "code",
      "metadata": {
        "id": "fx4jHUWcOmFN",
        "colab_type": "code",
        "colab": {}
      },
      "source": [
        ""
      ],
      "execution_count": 8,
      "outputs": []
    },
    {
      "cell_type": "code",
      "metadata": {
        "id": "lfRExBxHRPij",
        "colab_type": "code",
        "colab": {
          "base_uri": "https://localhost:8080/",
          "height": 34
        },
        "outputId": "be081e17-699a-41a5-eb9e-2c6501d3a2cd"
      },
      "source": [
        "# cb[\"date\"][1] + datetime.timedelta(days=1)\n",
        "\n",
        "\n",
        "# for i in range(len(date_len)): # 20 => cb  testnum = 20 -> 날짜 길이 세는거 찾기 \n",
        "#     if cb[\"date\"][i] + datetime.timedelta(days=1) == cb[\"date\"][i+1] :\n",
        "#         pass\n",
        "#     else :\n",
        "#         cb[\"date\"][i+1] = cb[\"date\"][i] + datetime.timedelta(days=1)\n",
        "#         cb[\"rate\"][i+1] = cb[\"rate\"][i] # 위치에 정확히 들어가는거 찾아보기\n",
        "#         # i += 1\n",
        "# cb.head(30)\n",
        "\n",
        "#date 먼저 다만들고 나중에 바꾸는 거도 하나 생각해보기\n",
        " # fillna 와 merge"
      ],
      "execution_count": 133,
      "outputs": [
        {
          "output_type": "execute_result",
          "data": {
            "text/plain": [
              "Timestamp('2005-05-04 00:00:00')"
            ]
          },
          "metadata": {
            "tags": []
          },
          "execution_count": 133
        }
      ]
    },
    {
      "cell_type": "code",
      "metadata": {
        "id": "3WNstqqfezAB",
        "colab_type": "code",
        "colab": {}
      },
      "source": [
        ""
      ],
      "execution_count": 8,
      "outputs": []
    },
    {
      "cell_type": "markdown",
      "metadata": {
        "id": "y8BuMz__qkuc",
        "colab_type": "text"
      },
      "source": [
        "# 날짜먼저 생성 후 merge로 합친다음 null값 처리하기"
      ]
    },
    {
      "cell_type": "code",
      "metadata": {
        "id": "R12ZKpuSRqsz",
        "colab_type": "code",
        "colab": {
          "base_uri": "https://localhost:8080/",
          "height": 402
        },
        "outputId": "5ea3b992-b671-43be-8836-72462b018ba9"
      },
      "source": [
        "# 날짜 생성 코드\n",
        "df = pd.DataFrame(\n",
        "    {\n",
        "#    'date': pd.Series(pd.date_range('2005-05-01 00:00', periods=5563, freq='D')  위아래 같은 값나오는 코드\n",
        "    'date': pd.Series(pd.date_range(start = '2005-05-01', end = '2020-07-23'))\n",
        "    })             # 주의할 것은 series 뒤에 pd.period_range 써주면 데이터 타입이 period라 오류 날 수 있으므로 date_range 사용할것\n",
        "df.dtypes\n",
        "df"
      ],
      "execution_count": 10,
      "outputs": [
        {
          "output_type": "execute_result",
          "data": {
            "text/html": [
              "<div>\n",
              "<style scoped>\n",
              "    .dataframe tbody tr th:only-of-type {\n",
              "        vertical-align: middle;\n",
              "    }\n",
              "\n",
              "    .dataframe tbody tr th {\n",
              "        vertical-align: top;\n",
              "    }\n",
              "\n",
              "    .dataframe thead th {\n",
              "        text-align: right;\n",
              "    }\n",
              "</style>\n",
              "<table border=\"1\" class=\"dataframe\">\n",
              "  <thead>\n",
              "    <tr style=\"text-align: right;\">\n",
              "      <th></th>\n",
              "      <th>date</th>\n",
              "    </tr>\n",
              "  </thead>\n",
              "  <tbody>\n",
              "    <tr>\n",
              "      <th>0</th>\n",
              "      <td>2005-05-01</td>\n",
              "    </tr>\n",
              "    <tr>\n",
              "      <th>1</th>\n",
              "      <td>2005-05-02</td>\n",
              "    </tr>\n",
              "    <tr>\n",
              "      <th>2</th>\n",
              "      <td>2005-05-03</td>\n",
              "    </tr>\n",
              "    <tr>\n",
              "      <th>3</th>\n",
              "      <td>2005-05-04</td>\n",
              "    </tr>\n",
              "    <tr>\n",
              "      <th>4</th>\n",
              "      <td>2005-05-05</td>\n",
              "    </tr>\n",
              "    <tr>\n",
              "      <th>...</th>\n",
              "      <td>...</td>\n",
              "    </tr>\n",
              "    <tr>\n",
              "      <th>5558</th>\n",
              "      <td>2020-07-19</td>\n",
              "    </tr>\n",
              "    <tr>\n",
              "      <th>5559</th>\n",
              "      <td>2020-07-20</td>\n",
              "    </tr>\n",
              "    <tr>\n",
              "      <th>5560</th>\n",
              "      <td>2020-07-21</td>\n",
              "    </tr>\n",
              "    <tr>\n",
              "      <th>5561</th>\n",
              "      <td>2020-07-22</td>\n",
              "    </tr>\n",
              "    <tr>\n",
              "      <th>5562</th>\n",
              "      <td>2020-07-23</td>\n",
              "    </tr>\n",
              "  </tbody>\n",
              "</table>\n",
              "<p>5563 rows × 1 columns</p>\n",
              "</div>"
            ],
            "text/plain": [
              "           date\n",
              "0    2005-05-01\n",
              "1    2005-05-02\n",
              "2    2005-05-03\n",
              "3    2005-05-04\n",
              "4    2005-05-05\n",
              "...         ...\n",
              "5558 2020-07-19\n",
              "5559 2020-07-20\n",
              "5560 2020-07-21\n",
              "5561 2020-07-22\n",
              "5562 2020-07-23\n",
              "\n",
              "[5563 rows x 1 columns]"
            ]
          },
          "metadata": {
            "tags": []
          },
          "execution_count": 10
        }
      ]
    },
    {
      "cell_type": "code",
      "metadata": {
        "id": "cFMzV448vJa_",
        "colab_type": "code",
        "colab": {
          "base_uri": "https://localhost:8080/",
          "height": 175
        },
        "outputId": "26d610a0-38c8-4fe3-d844-2111e3037f6c"
      },
      "source": [
        "cb\n",
        "# merge 전 type 일치하는지 확인 \n",
        "print(type(cb['date'][0]))\n",
        "print(type(df['date'][0]))\n",
        "\n",
        "print(\"-\"*40)\n",
        "print(cb.dtypes)\n",
        "print(\"-\"*40)\n",
        "print(df.dtypes)\n"
      ],
      "execution_count": 14,
      "outputs": [
        {
          "output_type": "stream",
          "text": [
            "<class 'pandas._libs.tslibs.timestamps.Timestamp'>\n",
            "<class 'pandas._libs.tslibs.timestamps.Timestamp'>\n",
            "----------------------------------------\n",
            "date    datetime64[ns]\n",
            "rate           float64\n",
            "dtype: object\n",
            "----------------------------------------\n",
            "date    datetime64[ns]\n",
            "dtype: object\n"
          ],
          "name": "stdout"
        }
      ]
    },
    {
      "cell_type": "code",
      "metadata": {
        "id": "YKUYN9BjSRGo",
        "colab_type": "code",
        "colab": {
          "base_uri": "https://localhost:8080/",
          "height": 402
        },
        "outputId": "eb8350ac-70e3-439e-bed8-ec096df8911e"
      },
      "source": [
        "new_df = df.merge(cb , on = 'date', how = 'left')   # df 자리에쓴게 기준점임.. 이걸기준으로 how 어떤조인할지  \n",
        "# ※주의 new_df = cd.merge(df , on = 'date', how = 'right') 처럼 cd와 df 자리바꾸고 right로 바꾸면 안됨 !! merge 앞에 쓰는게 기준점임  \n",
        "new_df[1:30]\n",
        "new_df"
      ],
      "execution_count": 15,
      "outputs": [
        {
          "output_type": "execute_result",
          "data": {
            "text/html": [
              "<div>\n",
              "<style scoped>\n",
              "    .dataframe tbody tr th:only-of-type {\n",
              "        vertical-align: middle;\n",
              "    }\n",
              "\n",
              "    .dataframe tbody tr th {\n",
              "        vertical-align: top;\n",
              "    }\n",
              "\n",
              "    .dataframe thead th {\n",
              "        text-align: right;\n",
              "    }\n",
              "</style>\n",
              "<table border=\"1\" class=\"dataframe\">\n",
              "  <thead>\n",
              "    <tr style=\"text-align: right;\">\n",
              "      <th></th>\n",
              "      <th>date</th>\n",
              "      <th>rate</th>\n",
              "    </tr>\n",
              "  </thead>\n",
              "  <tbody>\n",
              "    <tr>\n",
              "      <th>0</th>\n",
              "      <td>2005-05-01</td>\n",
              "      <td>NaN</td>\n",
              "    </tr>\n",
              "    <tr>\n",
              "      <th>1</th>\n",
              "      <td>2005-05-02</td>\n",
              "      <td>4.19</td>\n",
              "    </tr>\n",
              "    <tr>\n",
              "      <th>2</th>\n",
              "      <td>2005-05-03</td>\n",
              "      <td>4.16</td>\n",
              "    </tr>\n",
              "    <tr>\n",
              "      <th>3</th>\n",
              "      <td>2005-05-04</td>\n",
              "      <td>4.17</td>\n",
              "    </tr>\n",
              "    <tr>\n",
              "      <th>4</th>\n",
              "      <td>2005-05-05</td>\n",
              "      <td>NaN</td>\n",
              "    </tr>\n",
              "    <tr>\n",
              "      <th>...</th>\n",
              "      <td>...</td>\n",
              "      <td>...</td>\n",
              "    </tr>\n",
              "    <tr>\n",
              "      <th>5558</th>\n",
              "      <td>2020-07-19</td>\n",
              "      <td>NaN</td>\n",
              "    </tr>\n",
              "    <tr>\n",
              "      <th>5559</th>\n",
              "      <td>2020-07-20</td>\n",
              "      <td>2.20</td>\n",
              "    </tr>\n",
              "    <tr>\n",
              "      <th>5560</th>\n",
              "      <td>2020-07-21</td>\n",
              "      <td>2.21</td>\n",
              "    </tr>\n",
              "    <tr>\n",
              "      <th>5561</th>\n",
              "      <td>2020-07-22</td>\n",
              "      <td>2.20</td>\n",
              "    </tr>\n",
              "    <tr>\n",
              "      <th>5562</th>\n",
              "      <td>2020-07-23</td>\n",
              "      <td>2.19</td>\n",
              "    </tr>\n",
              "  </tbody>\n",
              "</table>\n",
              "<p>5563 rows × 2 columns</p>\n",
              "</div>"
            ],
            "text/plain": [
              "           date  rate\n",
              "0    2005-05-01   NaN\n",
              "1    2005-05-02  4.19\n",
              "2    2005-05-03  4.16\n",
              "3    2005-05-04  4.17\n",
              "4    2005-05-05   NaN\n",
              "...         ...   ...\n",
              "5558 2020-07-19   NaN\n",
              "5559 2020-07-20  2.20\n",
              "5560 2020-07-21  2.21\n",
              "5561 2020-07-22  2.20\n",
              "5562 2020-07-23  2.19\n",
              "\n",
              "[5563 rows x 2 columns]"
            ]
          },
          "metadata": {
            "tags": []
          },
          "execution_count": 15
        }
      ]
    },
    {
      "cell_type": "code",
      "metadata": {
        "id": "HcbkWJUHyC5J",
        "colab_type": "code",
        "colab": {}
      },
      "source": [
        ""
      ],
      "execution_count": 13,
      "outputs": []
    },
    {
      "cell_type": "code",
      "metadata": {
        "id": "DeOXKhmjtqMe",
        "colab_type": "code",
        "colab": {}
      },
      "source": [
        ""
      ],
      "execution_count": 136,
      "outputs": []
    },
    {
      "cell_type": "code",
      "metadata": {
        "id": "o_PmifpmSvGz",
        "colab_type": "code",
        "colab": {}
      },
      "source": [
        ""
      ],
      "execution_count": 14,
      "outputs": []
    },
    {
      "cell_type": "code",
      "metadata": {
        "id": "Rb2YLoknq7bc",
        "colab_type": "code",
        "colab": {
          "base_uri": "https://localhost:8080/",
          "height": 34
        },
        "outputId": "bd499f45-4ada-43fd-fb96-9d63e774fa09"
      },
      "source": [
        ""
      ],
      "execution_count": 114,
      "outputs": [
        {
          "output_type": "execute_result",
          "data": {
            "text/plain": [
              "pandas._libs.tslibs.period.Period"
            ]
          },
          "metadata": {
            "tags": []
          },
          "execution_count": 114
        }
      ]
    },
    {
      "cell_type": "code",
      "metadata": {
        "id": "34z9JsX7thOe",
        "colab_type": "code",
        "colab": {}
      },
      "source": [
        ""
      ],
      "execution_count": 79,
      "outputs": []
    }
  ]
}