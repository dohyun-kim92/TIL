{
  "nbformat": 4,
  "nbformat_minor": 0,
  "metadata": {
    "colab": {
      "name": "TextRank를 사용한 문서요약.ipynb",
      "provenance": [],
      "collapsed_sections": [],
      "authorship_tag": "ABX9TyMv3hHQmo9b1iv74G04G5MV",
      "include_colab_link": true
    },
    "kernelspec": {
      "name": "python3",
      "display_name": "Python 3"
    }
  },
  "cells": [
    {
      "cell_type": "markdown",
      "metadata": {
        "id": "view-in-github",
        "colab_type": "text"
      },
      "source": [
        "<a href=\"https://colab.research.google.com/github/dohyun-kim92/TIL/blob/master/dhkim/TextRank%EB%A5%BC_%EC%82%AC%EC%9A%A9%ED%95%9C_%EB%AC%B8%EC%84%9C%EC%9A%94%EC%95%BD.ipynb\" target=\"_parent\"><img src=\"https://colab.research.google.com/assets/colab-badge.svg\" alt=\"Open In Colab\"/></a>"
      ]
    },
    {
      "cell_type": "code",
      "metadata": {
        "id": "FCJKblTqnCUe",
        "colab_type": "code",
        "colab": {
          "base_uri": "https://localhost:8080/",
          "height": 34
        },
        "outputId": "fee999aa-39f5-4b7e-80e9-9a4b0507e573"
      },
      "source": [
        "import numpy as np\n",
        "import math\n",
        "import networkx as nx\n",
        "\n",
        "# 윈도내 동시등장한 토큰으로 그래프를 생성\n",
        "def connect(nodes, tokens):\n",
        "    window_size = 3 # coocurrence를 판단하기 위한 window 사이즈 설정\n",
        "    edges = []\n",
        "    for window_start in range(0, (len(tokens) - window_size + 1 )):\n",
        "        window = tokens[window_start: window_start  +window_size] # ???\n",
        "        for i in range(window_size):\n",
        "            for j in range(i+1, window_size):\n",
        "                if (window[i] in nodes) & (window[j] in nodes) : #윈도 내 단어가 노드에 속하는 경우만 엣지로 연결\n",
        "                    edges.append((window[i],window[j]))\n",
        "    return edges\n",
        "\n",
        "tokens = ['딸기', '바나나', '사과', '딸기', '파인애플']\n",
        "nodes = set(tokens)\n",
        "\n",
        "graph = nx.diamond_graph()\n",
        "graph.clear()\n",
        "graph.add_nodes_from(list(nodes)) # node 등록\n",
        "graph.add_edges_from(connect(nodes, tokens)) #edge 연결 \n",
        "graph"
      ],
      "execution_count": 5,
      "outputs": [
        {
          "output_type": "execute_result",
          "data": {
            "text/plain": [
              "<networkx.classes.graph.Graph at 0x7f62d33bb080>"
            ]
          },
          "metadata": {
            "tags": []
          },
          "execution_count": 5
        }
      ]
    },
    {
      "cell_type": "code",
      "metadata": {
        "id": "Zu-Eda7un9ZC",
        "colab_type": "code",
        "colab": {
          "base_uri": "https://localhost:8080/",
          "height": 204
        },
        "outputId": "4a13ee09-e8f9-4f05-a131-28f4c836f686"
      },
      "source": [
        "text1 = \"딸기 바나나 사과 파인애플 수박\"\n",
        "text2 = \"바나나 사과 딸기 포도\"\n",
        "text3 = \"복숭아 수박\"\n",
        "text4 = \"파인애플 사과 딸기 바나나\"\n",
        "text = [text1, text2, text3, text4]\n",
        "\n",
        "# 토큰화 \n",
        "token = []\n",
        "for i in range(len(text)):\n",
        "    token.append(text[i].split())\n",
        "token\n",
        "\n",
        "#문장별 토큰 union 생성해야 교집합/합집합 가능  -> 교집합,합집합 수세기 def\n",
        "#1과 2의 교집합\n"
      ],
      "execution_count": 14,
      "outputs": [
        {
          "output_type": "error",
          "ename": "TypeError",
          "evalue": "ignored",
          "traceback": [
            "\u001b[0;31m---------------------------------------------------------------------------\u001b[0m",
            "\u001b[0;31mTypeError\u001b[0m                                 Traceback (most recent call last)",
            "\u001b[0;32m<ipython-input-14-11647f335ddd>\u001b[0m in \u001b[0;36m<module>\u001b[0;34m()\u001b[0m\n\u001b[1;32m     13\u001b[0m \u001b[0;31m#문장별 토큰 union 생성해야 교집합/합집합 가능  -> 교집합,합집합 수세기 def\u001b[0m\u001b[0;34m\u001b[0m\u001b[0;34m\u001b[0m\u001b[0;34m\u001b[0m\u001b[0m\n\u001b[1;32m     14\u001b[0m \u001b[0;31m#1과 2의 교집합\u001b[0m\u001b[0;34m\u001b[0m\u001b[0;34m\u001b[0m\u001b[0;34m\u001b[0m\u001b[0m\n\u001b[0;32m---> 15\u001b[0;31m \u001b[0mprint\u001b[0m\u001b[0;34m(\u001b[0m\u001b[0mtoken\u001b[0m\u001b[0;34m[\u001b[0m\u001b[0;36m0\u001b[0m\u001b[0;34m]\u001b[0m \u001b[0;34m&\u001b[0m \u001b[0mtoken\u001b[0m\u001b[0;34m[\u001b[0m\u001b[0;36m1\u001b[0m\u001b[0;34m]\u001b[0m\u001b[0;34m)\u001b[0m\u001b[0;34m\u001b[0m\u001b[0;34m\u001b[0m\u001b[0m\n\u001b[0m",
            "\u001b[0;31mTypeError\u001b[0m: unsupported operand type(s) for &: 'list' and 'list'"
          ]
        }
      ]
    },
    {
      "cell_type": "code",
      "metadata": {
        "id": "c1K5OBjPvhgS",
        "colab_type": "code",
        "colab": {}
      },
      "source": [
        ""
      ],
      "execution_count": null,
      "outputs": []
    }
  ]
}