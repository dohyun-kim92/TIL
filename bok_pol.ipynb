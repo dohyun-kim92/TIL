{
  "nbformat": 4,
  "nbformat_minor": 0,
  "metadata": {
    "kernelspec": {
      "display_name": "Python 3",
      "language": "python",
      "name": "python3"
    },
    "language_info": {
      "codemirror_mode": {
        "name": "ipython",
        "version": 3
      },
      "file_extension": ".py",
      "mimetype": "text/x-python",
      "name": "python",
      "nbconvert_exporter": "python",
      "pygments_lexer": "ipython3",
      "version": "3.8.3"
    },
    "colab": {
      "name": "bok pol.ipynb",
      "provenance": [],
      "include_colab_link": true
    }
  },
  "cells": [
    {
      "cell_type": "markdown",
      "metadata": {
        "id": "view-in-github",
        "colab_type": "text"
      },
      "source": [
        "<a href=\"https://colab.research.google.com/github/dohyun-kim92/TIL/blob/master/bok_pol.ipynb\" target=\"_parent\"><img src=\"https://colab.research.google.com/assets/colab-badge.svg\" alt=\"Open In Colab\"/></a>"
      ]
    },
    {
      "cell_type": "code",
      "metadata": {
        "id": "EwX6jiGCDF_I",
        "colab_type": "code",
        "colab": {}
      },
      "source": [
        "# import package\n",
        "import pandas as pd\n",
        "import numpy as np\n",
        "import itertools\n",
        "import nltk\n",
        "import requests\n",
        "import csv\n",
        "import math\n",
        "import json\n",
        "import copy\n",
        "from bs4 import BeautifulSoup\n",
        "import pandas as pd\n",
        "import datetime\n",
        "from sklearn.model_selection import train_test_split\n",
        "from sklearn.feature_extraction.text import CountVectorizer\n",
        "from sklearn.feature_extraction.text import TfidfTransformer\n",
        "from sklearn.naive_bayes import MultinomialNB\n",
        "\n",
        "\n",
        "# from sklearn.data"
      ],
      "execution_count": null,
      "outputs": []
    },
    {
      "cell_type": "code",
      "metadata": {
        "id": "tMNJQvKVDF_L",
        "colab_type": "code",
        "colab": {},
        "outputId": "59688864-4dde-43bf-d727-9f18118784a8"
      },
      "source": [
        "df = pd.read_json(r\"C:\\Users\\dhsmi\\Downloads\\nn.json\")\n",
        "df.drop(['rate'], axis = 1 ,inplace = True)\n",
        "df.reset_index(drop=True, inplace=True)\n",
        "df"
      ],
      "execution_count": null,
      "outputs": [
        {
          "output_type": "execute_result",
          "data": {
            "text/html": [
              "<div>\n",
              "<style scoped>\n",
              "    .dataframe tbody tr th:only-of-type {\n",
              "        vertical-align: middle;\n",
              "    }\n",
              "\n",
              "    .dataframe tbody tr th {\n",
              "        vertical-align: top;\n",
              "    }\n",
              "\n",
              "    .dataframe thead th {\n",
              "        text-align: right;\n",
              "    }\n",
              "</style>\n",
              "<table border=\"1\" class=\"dataframe\">\n",
              "  <thead>\n",
              "    <tr style=\"text-align: right;\">\n",
              "      <th></th>\n",
              "      <th>date</th>\n",
              "      <th>ngram</th>\n",
              "      <th>ud</th>\n",
              "    </tr>\n",
              "  </thead>\n",
              "  <tbody>\n",
              "    <tr>\n",
              "      <th>0</th>\n",
              "      <td>2005-05-01</td>\n",
              "      <td>수입/NNG;증대/NNG,실적/NNG;높/VV,하락/NNG,위험/NNG,자신/NNG</td>\n",
              "      <td>-1</td>\n",
              "    </tr>\n",
              "    <tr>\n",
              "      <th>1</th>\n",
              "      <td>2005-05-01</td>\n",
              "      <td>기업/NNG;수익성/NNG;악화/NNG;우려/NNG,경제/NNG;지표/NNG;성장/...</td>\n",
              "      <td>-1</td>\n",
              "    </tr>\n",
              "    <tr>\n",
              "      <th>2</th>\n",
              "      <td>2005-05-01</td>\n",
              "      <td>인플레이션/NNG;압력/NNG;억제/NNG,금리/NNG;인상/NNG;긴축/NNG,지...</td>\n",
              "      <td>-1</td>\n",
              "    </tr>\n",
              "    <tr>\n",
              "      <th>3</th>\n",
              "      <td>2005-05-01</td>\n",
              "      <td>대출/NNG;연체율/NNG;오르/VV,대출/NNG;연체율/NNG;높/VA,대출심사/...</td>\n",
              "      <td>-1</td>\n",
              "    </tr>\n",
              "    <tr>\n",
              "      <th>4</th>\n",
              "      <td>2005-05-01</td>\n",
              "      <td>무수익여신/NNG;증가/NNG,수익성/NNG;악화/NNG,악화/NNG;조짐/NNG,...</td>\n",
              "      <td>-1</td>\n",
              "    </tr>\n",
              "    <tr>\n",
              "      <th>...</th>\n",
              "      <td>...</td>\n",
              "      <td>...</td>\n",
              "      <td>...</td>\n",
              "    </tr>\n",
              "    <tr>\n",
              "      <th>291601</th>\n",
              "      <td>2020-06-03</td>\n",
              "      <td>대부업/NNG;고금리/NNG,최대/NNG</td>\n",
              "      <td>1</td>\n",
              "    </tr>\n",
              "    <tr>\n",
              "      <th>291602</th>\n",
              "      <td>2020-06-03</td>\n",
              "      <td>매출/NNG;감소/NNG,금리/NNG;낮/VA,타격/NNG,최저/NNG,최대/NNG</td>\n",
              "      <td>1</td>\n",
              "    </tr>\n",
              "    <tr>\n",
              "      <th>291603</th>\n",
              "      <td>2020-06-03</td>\n",
              "      <td>안정/NNG,유예/NNG,최대/NNG</td>\n",
              "      <td>1</td>\n",
              "    </tr>\n",
              "    <tr>\n",
              "      <th>291604</th>\n",
              "      <td>2020-06-03</td>\n",
              "      <td>금융채/NNG;발행/NNG;급증/NNG,금리/NNG;비교/NNG;낮/VA</td>\n",
              "      <td>1</td>\n",
              "    </tr>\n",
              "    <tr>\n",
              "      <th>291605</th>\n",
              "      <td>2020-06-03</td>\n",
              "      <td>금융위기/NNG;경기/NNG;침체/NNG,금리/NNG;인하/NNG;내리/VV,v자형...</td>\n",
              "      <td>1</td>\n",
              "    </tr>\n",
              "  </tbody>\n",
              "</table>\n",
              "<p>291606 rows × 3 columns</p>\n",
              "</div>"
            ],
            "text/plain": [
              "             date                                              ngram  ud\n",
              "0      2005-05-01     수입/NNG;증대/NNG,실적/NNG;높/VV,하락/NNG,위험/NNG,자신/NNG  -1\n",
              "1      2005-05-01  기업/NNG;수익성/NNG;악화/NNG;우려/NNG,경제/NNG;지표/NNG;성장/...  -1\n",
              "2      2005-05-01  인플레이션/NNG;압력/NNG;억제/NNG,금리/NNG;인상/NNG;긴축/NNG,지...  -1\n",
              "3      2005-05-01  대출/NNG;연체율/NNG;오르/VV,대출/NNG;연체율/NNG;높/VA,대출심사/...  -1\n",
              "4      2005-05-01  무수익여신/NNG;증가/NNG,수익성/NNG;악화/NNG,악화/NNG;조짐/NNG,...  -1\n",
              "...           ...                                                ...  ..\n",
              "291601 2020-06-03                             대부업/NNG;고금리/NNG,최대/NNG   1\n",
              "291602 2020-06-03     매출/NNG;감소/NNG,금리/NNG;낮/VA,타격/NNG,최저/NNG,최대/NNG   1\n",
              "291603 2020-06-03                               안정/NNG,유예/NNG,최대/NNG   1\n",
              "291604 2020-06-03           금융채/NNG;발행/NNG;급증/NNG,금리/NNG;비교/NNG;낮/VA   1\n",
              "291605 2020-06-03  금융위기/NNG;경기/NNG;침체/NNG,금리/NNG;인하/NNG;내리/VV,v자형...   1\n",
              "\n",
              "[291606 rows x 3 columns]"
            ]
          },
          "metadata": {
            "tags": []
          },
          "execution_count": 2
        }
      ]
    },
    {
      "cell_type": "code",
      "metadata": {
        "id": "68RZZPx_DF_O",
        "colab_type": "code",
        "colab": {},
        "outputId": "fb0291b2-664c-49ab-95b3-b07772c16be4"
      },
      "source": [
        "df"
      ],
      "execution_count": null,
      "outputs": [
        {
          "output_type": "execute_result",
          "data": {
            "text/html": [
              "<div>\n",
              "<style scoped>\n",
              "    .dataframe tbody tr th:only-of-type {\n",
              "        vertical-align: middle;\n",
              "    }\n",
              "\n",
              "    .dataframe tbody tr th {\n",
              "        vertical-align: top;\n",
              "    }\n",
              "\n",
              "    .dataframe thead th {\n",
              "        text-align: right;\n",
              "    }\n",
              "</style>\n",
              "<table border=\"1\" class=\"dataframe\">\n",
              "  <thead>\n",
              "    <tr style=\"text-align: right;\">\n",
              "      <th></th>\n",
              "      <th>date</th>\n",
              "      <th>ngram</th>\n",
              "      <th>ud</th>\n",
              "    </tr>\n",
              "  </thead>\n",
              "  <tbody>\n",
              "    <tr>\n",
              "      <th>0</th>\n",
              "      <td>2005-05-01</td>\n",
              "      <td>수입/NNG;증대/NNG,실적/NNG;높/VV,하락/NNG,위험/NNG,자신/NNG</td>\n",
              "      <td>-1</td>\n",
              "    </tr>\n",
              "    <tr>\n",
              "      <th>1</th>\n",
              "      <td>2005-05-01</td>\n",
              "      <td>기업/NNG;수익성/NNG;악화/NNG;우려/NNG,경제/NNG;지표/NNG;성장/...</td>\n",
              "      <td>-1</td>\n",
              "    </tr>\n",
              "    <tr>\n",
              "      <th>2</th>\n",
              "      <td>2005-05-01</td>\n",
              "      <td>인플레이션/NNG;압력/NNG;억제/NNG,금리/NNG;인상/NNG;긴축/NNG,지...</td>\n",
              "      <td>-1</td>\n",
              "    </tr>\n",
              "    <tr>\n",
              "      <th>3</th>\n",
              "      <td>2005-05-01</td>\n",
              "      <td>대출/NNG;연체율/NNG;오르/VV,대출/NNG;연체율/NNG;높/VA,대출심사/...</td>\n",
              "      <td>-1</td>\n",
              "    </tr>\n",
              "    <tr>\n",
              "      <th>4</th>\n",
              "      <td>2005-05-01</td>\n",
              "      <td>무수익여신/NNG;증가/NNG,수익성/NNG;악화/NNG,악화/NNG;조짐/NNG,...</td>\n",
              "      <td>-1</td>\n",
              "    </tr>\n",
              "    <tr>\n",
              "      <th>...</th>\n",
              "      <td>...</td>\n",
              "      <td>...</td>\n",
              "      <td>...</td>\n",
              "    </tr>\n",
              "    <tr>\n",
              "      <th>291601</th>\n",
              "      <td>2020-06-03</td>\n",
              "      <td>대부업/NNG;고금리/NNG,최대/NNG</td>\n",
              "      <td>1</td>\n",
              "    </tr>\n",
              "    <tr>\n",
              "      <th>291602</th>\n",
              "      <td>2020-06-03</td>\n",
              "      <td>매출/NNG;감소/NNG,금리/NNG;낮/VA,타격/NNG,최저/NNG,최대/NNG</td>\n",
              "      <td>1</td>\n",
              "    </tr>\n",
              "    <tr>\n",
              "      <th>291603</th>\n",
              "      <td>2020-06-03</td>\n",
              "      <td>안정/NNG,유예/NNG,최대/NNG</td>\n",
              "      <td>1</td>\n",
              "    </tr>\n",
              "    <tr>\n",
              "      <th>291604</th>\n",
              "      <td>2020-06-03</td>\n",
              "      <td>금융채/NNG;발행/NNG;급증/NNG,금리/NNG;비교/NNG;낮/VA</td>\n",
              "      <td>1</td>\n",
              "    </tr>\n",
              "    <tr>\n",
              "      <th>291605</th>\n",
              "      <td>2020-06-03</td>\n",
              "      <td>금융위기/NNG;경기/NNG;침체/NNG,금리/NNG;인하/NNG;내리/VV,v자형...</td>\n",
              "      <td>1</td>\n",
              "    </tr>\n",
              "  </tbody>\n",
              "</table>\n",
              "<p>291606 rows × 3 columns</p>\n",
              "</div>"
            ],
            "text/plain": [
              "             date                                              ngram  ud\n",
              "0      2005-05-01     수입/NNG;증대/NNG,실적/NNG;높/VV,하락/NNG,위험/NNG,자신/NNG  -1\n",
              "1      2005-05-01  기업/NNG;수익성/NNG;악화/NNG;우려/NNG,경제/NNG;지표/NNG;성장/...  -1\n",
              "2      2005-05-01  인플레이션/NNG;압력/NNG;억제/NNG,금리/NNG;인상/NNG;긴축/NNG,지...  -1\n",
              "3      2005-05-01  대출/NNG;연체율/NNG;오르/VV,대출/NNG;연체율/NNG;높/VA,대출심사/...  -1\n",
              "4      2005-05-01  무수익여신/NNG;증가/NNG,수익성/NNG;악화/NNG,악화/NNG;조짐/NNG,...  -1\n",
              "...           ...                                                ...  ..\n",
              "291601 2020-06-03                             대부업/NNG;고금리/NNG,최대/NNG   1\n",
              "291602 2020-06-03     매출/NNG;감소/NNG,금리/NNG;낮/VA,타격/NNG,최저/NNG,최대/NNG   1\n",
              "291603 2020-06-03                               안정/NNG,유예/NNG,최대/NNG   1\n",
              "291604 2020-06-03           금융채/NNG;발행/NNG;급증/NNG,금리/NNG;비교/NNG;낮/VA   1\n",
              "291605 2020-06-03  금융위기/NNG;경기/NNG;침체/NNG,금리/NNG;인하/NNG;내리/VV,v자형...   1\n",
              "\n",
              "[291606 rows x 3 columns]"
            ]
          },
          "metadata": {
            "tags": []
          },
          "execution_count": 3
        }
      ]
    },
    {
      "cell_type": "code",
      "metadata": {
        "id": "X37Qdnt6DF_Q",
        "colab_type": "code",
        "colab": {}
      },
      "source": [
        "class NBC():\n",
        "    def add_data(self, datas):\n",
        "        word_column = datas.columns[1]\n",
        "        target_column = datas.columns[2]\n",
        "        target_ls = list(set(datas[target_column]))\n",
        "        datas[word_column] = list(map(lambda i : i.split(','), datas[word_column]))\n",
        "        total_ngram = list(itertools.chain(*list(datas[word_column]))) # list로 들어가지 않을 경우\n",
        "        unique_ngram = list(set(total_ngram))\n",
        "        result_df = pd.DataFrame(unique_ngram, columns = [word_column]).set_index(word_column)\n",
        "        for target in target_ls:\n",
        "            this_ngram = list(itertools.chain(*list(datas[datas[target_column] == target][word_column])))\n",
        "            fdist = nltk.FreqDist(this_ngram)\n",
        "            temp_df = pd.DataFrame(list(zip(fdist.keys(), fdist.values())), columns= [word_column, 'count']).set_index(word_column)\n",
        "            result_df[target] = temp_df['count']\n",
        "            \n",
        "        result_df.fillna(0, inplace=True)\n",
        "        result_df['score'] = 0\n",
        "        self.df = copy.deepcopy(result_df)\n",
        "        return self.df\n",
        "    \n",
        "    def count_vec(self, datas):\n",
        "        word_column = datas.columns[0]\n",
        "        target_column = datas.columns[1]\n",
        "        target_ls = list(set(datas[target_column]))\n",
        "\n",
        "        total_ngram = list(itertools.chain(*list(datas[word_column]))) \n",
        "        unique_ngram = list(set(total_ngram))\n",
        "        result_df = pd.DataFrame(unique_ngram, columns = [word_column]).set_index(word_column)\n",
        "        \n",
        "        for target in target_ls:\n",
        "            this_ngram = list(itertools.chain(*list(datas[datas[target_column] == target][word_column])))\n",
        "            fdist = nltk.FreqDist(this_ngram)\n",
        "            temp_df = pd.DataFrame(list(zip(fdist.keys(), fdist.values())), columns= [word_column, 'count']).set_index(word_column)\n",
        "            result_df[target] = temp_df['count']\n",
        "\n",
        "        result_df.fillna(0, inplace=True)\n",
        "        return result_df\n",
        "    \n",
        "    def polarity_score(self, datas):\n",
        "        df = datas\n",
        "        \n",
        "        df['haw'] = df[1] / sum(df[1])\n",
        "        df['dov'] = df[-1] / sum(df[-1])\n",
        "        self.df['score'] += df['haw'] / df['dov']\n",
        "        return self.df\n",
        "\n",
        "    def bagging(self, train_data, k):\n",
        "        for i in range(k):\n",
        "            self.polarity_score(self.count_vec(train_data.sample(frac=0.9)))\n",
        "        self.df['score'] = self.df['score'] / k\n",
        "        return self.df"
      ],
      "execution_count": null,
      "outputs": []
    },
    {
      "cell_type": "code",
      "metadata": {
        "id": "kIvWJWYtDF_S",
        "colab_type": "code",
        "colab": {},
        "outputId": "4d2d4bc6-d53c-4d33-b7d4-b48ca52f4d72"
      },
      "source": [
        "nbc=NBC()\n",
        "nbc.add_data(df)"
      ],
      "execution_count": null,
      "outputs": [
        {
          "output_type": "execute_result",
          "data": {
            "text/html": [
              "<div>\n",
              "<style scoped>\n",
              "    .dataframe tbody tr th:only-of-type {\n",
              "        vertical-align: middle;\n",
              "    }\n",
              "\n",
              "    .dataframe tbody tr th {\n",
              "        vertical-align: top;\n",
              "    }\n",
              "\n",
              "    .dataframe thead th {\n",
              "        text-align: right;\n",
              "    }\n",
              "</style>\n",
              "<table border=\"1\" class=\"dataframe\">\n",
              "  <thead>\n",
              "    <tr style=\"text-align: right;\">\n",
              "      <th></th>\n",
              "      <th>0</th>\n",
              "      <th>1</th>\n",
              "      <th>-1</th>\n",
              "      <th>score</th>\n",
              "    </tr>\n",
              "    <tr>\n",
              "      <th>ngram</th>\n",
              "      <th></th>\n",
              "      <th></th>\n",
              "      <th></th>\n",
              "      <th></th>\n",
              "    </tr>\n",
              "  </thead>\n",
              "  <tbody>\n",
              "    <tr>\n",
              "      <th>부양책/NNG;약화/NNG</th>\n",
              "      <td>3.0</td>\n",
              "      <td>1.0</td>\n",
              "      <td>8.0</td>\n",
              "      <td>0</td>\n",
              "    </tr>\n",
              "    <tr>\n",
              "      <th>국채입찰/NNG;낙찰/NNG;금리/NNG;최저/NNG</th>\n",
              "      <td>0.0</td>\n",
              "      <td>0.0</td>\n",
              "      <td>6.0</td>\n",
              "      <td>0</td>\n",
              "    </tr>\n",
              "    <tr>\n",
              "      <th>긴축/NNG;밖/NNG;없/VA</th>\n",
              "      <td>0.0</td>\n",
              "      <td>1.0</td>\n",
              "      <td>0.0</td>\n",
              "      <td>0</td>\n",
              "    </tr>\n",
              "    <tr>\n",
              "      <th>부채/NNG;총량/NNG;증가/NNG</th>\n",
              "      <td>0.0</td>\n",
              "      <td>5.0</td>\n",
              "      <td>0.0</td>\n",
              "      <td>0</td>\n",
              "    </tr>\n",
              "    <tr>\n",
              "      <th>우려/NNG;경기/NNG;불확실성/NNG</th>\n",
              "      <td>2.0</td>\n",
              "      <td>6.0</td>\n",
              "      <td>11.0</td>\n",
              "      <td>0</td>\n",
              "    </tr>\n",
              "    <tr>\n",
              "      <th>...</th>\n",
              "      <td>...</td>\n",
              "      <td>...</td>\n",
              "      <td>...</td>\n",
              "      <td>...</td>\n",
              "    </tr>\n",
              "    <tr>\n",
              "      <th>자금/NNG;지원/NNG;금리/NNG;인하/NNG</th>\n",
              "      <td>0.0</td>\n",
              "      <td>1.0</td>\n",
              "      <td>5.0</td>\n",
              "      <td>0</td>\n",
              "    </tr>\n",
              "    <tr>\n",
              "      <th>스무딩오퍼레이션/NNG;미세조정/NNG;경계/NNG;확산/NNG</th>\n",
              "      <td>1.0</td>\n",
              "      <td>5.0</td>\n",
              "      <td>9.0</td>\n",
              "      <td>0</td>\n",
              "    </tr>\n",
              "    <tr>\n",
              "      <th>crs/NNG;금리/NNG;상승/NNG</th>\n",
              "      <td>77.0</td>\n",
              "      <td>109.0</td>\n",
              "      <td>175.0</td>\n",
              "      <td>0</td>\n",
              "    </tr>\n",
              "    <tr>\n",
              "      <th>개선/NNG;속도/NNG;더디/VA</th>\n",
              "      <td>10.0</td>\n",
              "      <td>1.0</td>\n",
              "      <td>7.0</td>\n",
              "      <td>0</td>\n",
              "    </tr>\n",
              "    <tr>\n",
              "      <th>채권펀드/NNG;자금/NNG;유입/NNG;증가/NNG</th>\n",
              "      <td>1.0</td>\n",
              "      <td>0.0</td>\n",
              "      <td>2.0</td>\n",
              "      <td>0</td>\n",
              "    </tr>\n",
              "  </tbody>\n",
              "</table>\n",
              "<p>65436 rows × 4 columns</p>\n",
              "</div>"
            ],
            "text/plain": [
              "                                        0      1     -1  score\n",
              "ngram                                                         \n",
              "부양책/NNG;약화/NNG                        3.0    1.0    8.0      0\n",
              "국채입찰/NNG;낙찰/NNG;금리/NNG;최저/NNG         0.0    0.0    6.0      0\n",
              "긴축/NNG;밖/NNG;없/VA                     0.0    1.0    0.0      0\n",
              "부채/NNG;총량/NNG;증가/NNG                  0.0    5.0    0.0      0\n",
              "우려/NNG;경기/NNG;불확실성/NNG                2.0    6.0   11.0      0\n",
              "...                                   ...    ...    ...    ...\n",
              "자금/NNG;지원/NNG;금리/NNG;인하/NNG           0.0    1.0    5.0      0\n",
              "스무딩오퍼레이션/NNG;미세조정/NNG;경계/NNG;확산/NNG   1.0    5.0    9.0      0\n",
              "crs/NNG;금리/NNG;상승/NNG                77.0  109.0  175.0      0\n",
              "개선/NNG;속도/NNG;더디/VA                  10.0    1.0    7.0      0\n",
              "채권펀드/NNG;자금/NNG;유입/NNG;증가/NNG         1.0    0.0    2.0      0\n",
              "\n",
              "[65436 rows x 4 columns]"
            ]
          },
          "metadata": {
            "tags": []
          },
          "execution_count": 5
        }
      ]
    },
    {
      "cell_type": "code",
      "metadata": {
        "id": "ZCvizTuUDF_U",
        "colab_type": "code",
        "colab": {},
        "outputId": "594e9478-01b5-41eb-b028-345cff46c955"
      },
      "source": [
        "nbc.bagging(df.set_index('date'), 30)"
      ],
      "execution_count": null,
      "outputs": [
        {
          "output_type": "execute_result",
          "data": {
            "text/html": [
              "<div>\n",
              "<style scoped>\n",
              "    .dataframe tbody tr th:only-of-type {\n",
              "        vertical-align: middle;\n",
              "    }\n",
              "\n",
              "    .dataframe tbody tr th {\n",
              "        vertical-align: top;\n",
              "    }\n",
              "\n",
              "    .dataframe thead th {\n",
              "        text-align: right;\n",
              "    }\n",
              "</style>\n",
              "<table border=\"1\" class=\"dataframe\">\n",
              "  <thead>\n",
              "    <tr style=\"text-align: right;\">\n",
              "      <th></th>\n",
              "      <th>0</th>\n",
              "      <th>1</th>\n",
              "      <th>-1</th>\n",
              "      <th>score</th>\n",
              "    </tr>\n",
              "    <tr>\n",
              "      <th>ngram</th>\n",
              "      <th></th>\n",
              "      <th></th>\n",
              "      <th></th>\n",
              "      <th></th>\n",
              "    </tr>\n",
              "  </thead>\n",
              "  <tbody>\n",
              "    <tr>\n",
              "      <th>부양책/NNG;약화/NNG</th>\n",
              "      <td>3.0</td>\n",
              "      <td>1.0</td>\n",
              "      <td>8.0</td>\n",
              "      <td>0.161731</td>\n",
              "    </tr>\n",
              "    <tr>\n",
              "      <th>국채입찰/NNG;낙찰/NNG;금리/NNG;최저/NNG</th>\n",
              "      <td>0.0</td>\n",
              "      <td>0.0</td>\n",
              "      <td>6.0</td>\n",
              "      <td>0.000000</td>\n",
              "    </tr>\n",
              "    <tr>\n",
              "      <th>긴축/NNG;밖/NNG;없/VA</th>\n",
              "      <td>0.0</td>\n",
              "      <td>1.0</td>\n",
              "      <td>0.0</td>\n",
              "      <td>NaN</td>\n",
              "    </tr>\n",
              "    <tr>\n",
              "      <th>부채/NNG;총량/NNG;증가/NNG</th>\n",
              "      <td>0.0</td>\n",
              "      <td>5.0</td>\n",
              "      <td>0.0</td>\n",
              "      <td>inf</td>\n",
              "    </tr>\n",
              "    <tr>\n",
              "      <th>우려/NNG;경기/NNG;불확실성/NNG</th>\n",
              "      <td>2.0</td>\n",
              "      <td>6.0</td>\n",
              "      <td>11.0</td>\n",
              "      <td>0.678218</td>\n",
              "    </tr>\n",
              "    <tr>\n",
              "      <th>...</th>\n",
              "      <td>...</td>\n",
              "      <td>...</td>\n",
              "      <td>...</td>\n",
              "      <td>...</td>\n",
              "    </tr>\n",
              "    <tr>\n",
              "      <th>자금/NNG;지원/NNG;금리/NNG;인하/NNG</th>\n",
              "      <td>0.0</td>\n",
              "      <td>1.0</td>\n",
              "      <td>5.0</td>\n",
              "      <td>0.238400</td>\n",
              "    </tr>\n",
              "    <tr>\n",
              "      <th>스무딩오퍼레이션/NNG;미세조정/NNG;경계/NNG;확산/NNG</th>\n",
              "      <td>1.0</td>\n",
              "      <td>5.0</td>\n",
              "      <td>9.0</td>\n",
              "      <td>0.639386</td>\n",
              "    </tr>\n",
              "    <tr>\n",
              "      <th>crs/NNG;금리/NNG;상승/NNG</th>\n",
              "      <td>77.0</td>\n",
              "      <td>109.0</td>\n",
              "      <td>175.0</td>\n",
              "      <td>0.740483</td>\n",
              "    </tr>\n",
              "    <tr>\n",
              "      <th>개선/NNG;속도/NNG;더디/VA</th>\n",
              "      <td>10.0</td>\n",
              "      <td>1.0</td>\n",
              "      <td>7.0</td>\n",
              "      <td>0.199889</td>\n",
              "    </tr>\n",
              "    <tr>\n",
              "      <th>채권펀드/NNG;자금/NNG;유입/NNG;증가/NNG</th>\n",
              "      <td>1.0</td>\n",
              "      <td>0.0</td>\n",
              "      <td>2.0</td>\n",
              "      <td>0.000000</td>\n",
              "    </tr>\n",
              "  </tbody>\n",
              "</table>\n",
              "<p>65436 rows × 4 columns</p>\n",
              "</div>"
            ],
            "text/plain": [
              "                                        0      1     -1     score\n",
              "ngram                                                            \n",
              "부양책/NNG;약화/NNG                        3.0    1.0    8.0  0.161731\n",
              "국채입찰/NNG;낙찰/NNG;금리/NNG;최저/NNG         0.0    0.0    6.0  0.000000\n",
              "긴축/NNG;밖/NNG;없/VA                     0.0    1.0    0.0       NaN\n",
              "부채/NNG;총량/NNG;증가/NNG                  0.0    5.0    0.0       inf\n",
              "우려/NNG;경기/NNG;불확실성/NNG                2.0    6.0   11.0  0.678218\n",
              "...                                   ...    ...    ...       ...\n",
              "자금/NNG;지원/NNG;금리/NNG;인하/NNG           0.0    1.0    5.0  0.238400\n",
              "스무딩오퍼레이션/NNG;미세조정/NNG;경계/NNG;확산/NNG   1.0    5.0    9.0  0.639386\n",
              "crs/NNG;금리/NNG;상승/NNG                77.0  109.0  175.0  0.740483\n",
              "개선/NNG;속도/NNG;더디/VA                  10.0    1.0    7.0  0.199889\n",
              "채권펀드/NNG;자금/NNG;유입/NNG;증가/NNG         1.0    0.0    2.0  0.000000\n",
              "\n",
              "[65436 rows x 4 columns]"
            ]
          },
          "metadata": {
            "tags": []
          },
          "execution_count": 6
        }
      ]
    },
    {
      "cell_type": "code",
      "metadata": {
        "id": "QUSnYbOyDF_V",
        "colab_type": "code",
        "colab": {}
      },
      "source": [
        "df1 = nbc.df\n",
        "df1['sum'] = df1.sum(axis=1)"
      ],
      "execution_count": null,
      "outputs": []
    },
    {
      "cell_type": "code",
      "metadata": {
        "id": "2H_DNSAoDF_Y",
        "colab_type": "code",
        "colab": {},
        "outputId": "b9aa2edb-02ee-49da-c7e8-526658166d73"
      },
      "source": [
        "df1 = df1[df1['sum'] > 15]\n",
        "df1"
      ],
      "execution_count": null,
      "outputs": [
        {
          "output_type": "execute_result",
          "data": {
            "text/html": [
              "<div>\n",
              "<style scoped>\n",
              "    .dataframe tbody tr th:only-of-type {\n",
              "        vertical-align: middle;\n",
              "    }\n",
              "\n",
              "    .dataframe tbody tr th {\n",
              "        vertical-align: top;\n",
              "    }\n",
              "\n",
              "    .dataframe thead th {\n",
              "        text-align: right;\n",
              "    }\n",
              "</style>\n",
              "<table border=\"1\" class=\"dataframe\">\n",
              "  <thead>\n",
              "    <tr style=\"text-align: right;\">\n",
              "      <th></th>\n",
              "      <th>0</th>\n",
              "      <th>1</th>\n",
              "      <th>-1</th>\n",
              "      <th>score</th>\n",
              "      <th>sum</th>\n",
              "    </tr>\n",
              "    <tr>\n",
              "      <th>ngram</th>\n",
              "      <th></th>\n",
              "      <th></th>\n",
              "      <th></th>\n",
              "      <th></th>\n",
              "      <th></th>\n",
              "    </tr>\n",
              "  </thead>\n",
              "  <tbody>\n",
              "    <tr>\n",
              "      <th>부채/NNG;총량/NNG;증가/NNG</th>\n",
              "      <td>0.0</td>\n",
              "      <td>5.0</td>\n",
              "      <td>0.0</td>\n",
              "      <td>inf</td>\n",
              "      <td>inf</td>\n",
              "    </tr>\n",
              "    <tr>\n",
              "      <th>우려/NNG;경기/NNG;불확실성/NNG</th>\n",
              "      <td>2.0</td>\n",
              "      <td>6.0</td>\n",
              "      <td>11.0</td>\n",
              "      <td>0.678218</td>\n",
              "      <td>19.678218</td>\n",
              "    </tr>\n",
              "    <tr>\n",
              "      <th>실적/NNG;성장/NNG;둔화/NNG</th>\n",
              "      <td>5.0</td>\n",
              "      <td>7.0</td>\n",
              "      <td>8.0</td>\n",
              "      <td>1.081001</td>\n",
              "      <td>21.081001</td>\n",
              "    </tr>\n",
              "    <tr>\n",
              "      <th>부채/NNG;한도/NNG;상향/NNG</th>\n",
              "      <td>6.0</td>\n",
              "      <td>3.0</td>\n",
              "      <td>13.0</td>\n",
              "      <td>0.280293</td>\n",
              "      <td>22.280293</td>\n",
              "    </tr>\n",
              "    <tr>\n",
              "      <th>인상/NNG;급락/NNG</th>\n",
              "      <td>2.0</td>\n",
              "      <td>7.0</td>\n",
              "      <td>1.0</td>\n",
              "      <td>inf</td>\n",
              "      <td>inf</td>\n",
              "    </tr>\n",
              "    <tr>\n",
              "      <th>...</th>\n",
              "      <td>...</td>\n",
              "      <td>...</td>\n",
              "      <td>...</td>\n",
              "      <td>...</td>\n",
              "      <td>...</td>\n",
              "    </tr>\n",
              "    <tr>\n",
              "      <th>자금/NNG;조달/NNG;비용/NNG;늘/VV</th>\n",
              "      <td>19.0</td>\n",
              "      <td>24.0</td>\n",
              "      <td>29.0</td>\n",
              "      <td>0.989801</td>\n",
              "      <td>72.989801</td>\n",
              "    </tr>\n",
              "    <tr>\n",
              "      <th>스티프닝/NNG;우세/NNG</th>\n",
              "      <td>0.0</td>\n",
              "      <td>3.0</td>\n",
              "      <td>1.0</td>\n",
              "      <td>inf</td>\n",
              "      <td>inf</td>\n",
              "    </tr>\n",
              "    <tr>\n",
              "      <th>스무딩오퍼레이션/NNG;미세조정/NNG;경계/NNG;확산/NNG</th>\n",
              "      <td>1.0</td>\n",
              "      <td>5.0</td>\n",
              "      <td>9.0</td>\n",
              "      <td>0.639386</td>\n",
              "      <td>15.639386</td>\n",
              "    </tr>\n",
              "    <tr>\n",
              "      <th>crs/NNG;금리/NNG;상승/NNG</th>\n",
              "      <td>77.0</td>\n",
              "      <td>109.0</td>\n",
              "      <td>175.0</td>\n",
              "      <td>0.740483</td>\n",
              "      <td>361.740483</td>\n",
              "    </tr>\n",
              "    <tr>\n",
              "      <th>개선/NNG;속도/NNG;더디/VA</th>\n",
              "      <td>10.0</td>\n",
              "      <td>1.0</td>\n",
              "      <td>7.0</td>\n",
              "      <td>0.199889</td>\n",
              "      <td>18.199889</td>\n",
              "    </tr>\n",
              "  </tbody>\n",
              "</table>\n",
              "<p>36307 rows × 5 columns</p>\n",
              "</div>"
            ],
            "text/plain": [
              "                                        0      1     -1     score         sum\n",
              "ngram                                                                        \n",
              "부채/NNG;총량/NNG;증가/NNG                  0.0    5.0    0.0       inf         inf\n",
              "우려/NNG;경기/NNG;불확실성/NNG                2.0    6.0   11.0  0.678218   19.678218\n",
              "실적/NNG;성장/NNG;둔화/NNG                  5.0    7.0    8.0  1.081001   21.081001\n",
              "부채/NNG;한도/NNG;상향/NNG                  6.0    3.0   13.0  0.280293   22.280293\n",
              "인상/NNG;급락/NNG                         2.0    7.0    1.0       inf         inf\n",
              "...                                   ...    ...    ...       ...         ...\n",
              "자금/NNG;조달/NNG;비용/NNG;늘/VV            19.0   24.0   29.0  0.989801   72.989801\n",
              "스티프닝/NNG;우세/NNG                       0.0    3.0    1.0       inf         inf\n",
              "스무딩오퍼레이션/NNG;미세조정/NNG;경계/NNG;확산/NNG   1.0    5.0    9.0  0.639386   15.639386\n",
              "crs/NNG;금리/NNG;상승/NNG                77.0  109.0  175.0  0.740483  361.740483\n",
              "개선/NNG;속도/NNG;더디/VA                  10.0    1.0    7.0  0.199889   18.199889\n",
              "\n",
              "[36307 rows x 5 columns]"
            ]
          },
          "metadata": {
            "tags": []
          },
          "execution_count": 8
        }
      ]
    },
    {
      "cell_type": "code",
      "metadata": {
        "id": "pbgovH_3DF_a",
        "colab_type": "code",
        "colab": {}
      },
      "source": [
        "# 확률계산(n=train 횟수))\n",
        "def fit(df1, n):\n",
        "    # 평균을 내기 위한 데이터 저장소\n",
        "    df_columns = df1.columns\n",
        "    for_avg = df1.drop(columns=df_columns, axis = 1)\n",
        "    # 데이터 스플릿\n",
        "    for i in range(n):\n",
        "        # 임의의 90% 데이터 추출\n",
        "        train = df1.sample(frac=0.9)\n",
        "        # fit 수행\n",
        "        train['whokish'] = ((train[1])/(sum(train[1])))\n",
        "        train['wdovish'] = ((train[-1])/(sum(train[-1])))\n",
        "        train['score{}'.format(i)] = train['whokish']/train['wdovish']\n",
        "        for_avg = pd.merge(for_avg, train['score{}'.format(i)], left_index=True, right_index=True, suffixes=('_',''), how='outer')\n",
        "        try:\n",
        "            for_avg.drop('score{}_'.format(i), axis=1, inplace=True)\n",
        "        except:\n",
        "            pass\n",
        "    df1['avg_score'] = for_avg.mean(axis=1)\n",
        "    return df1['avg_score']"
      ],
      "execution_count": null,
      "outputs": []
    },
    {
      "cell_type": "code",
      "metadata": {
        "id": "35XSOsj5DF_c",
        "colab_type": "code",
        "colab": {},
        "outputId": "dd7927f7-2265-43fc-9ad6-3ff13ed66153"
      },
      "source": [
        "df1 = fit(df1, 30)"
      ],
      "execution_count": null,
      "outputs": [
        {
          "output_type": "stream",
          "text": [
            "<ipython-input-9-ab087811cafb>:19: SettingWithCopyWarning: \n",
            "A value is trying to be set on a copy of a slice from a DataFrame.\n",
            "Try using .loc[row_indexer,col_indexer] = value instead\n",
            "\n",
            "See the caveats in the documentation: https://pandas.pydata.org/pandas-docs/stable/user_guide/indexing.html#returning-a-view-versus-a-copy\n",
            "  df1['avg_score'] = for_avg.mean(axis=1)\n"
          ],
          "name": "stderr"
        }
      ]
    },
    {
      "cell_type": "code",
      "metadata": {
        "id": "NaidCiaPDF_e",
        "colab_type": "code",
        "colab": {}
      },
      "source": [
        "df1 = pd.DataFrame(df1, columns = ['avg_score'])"
      ],
      "execution_count": null,
      "outputs": []
    },
    {
      "cell_type": "code",
      "metadata": {
        "id": "97KKHOBjDF_g",
        "colab_type": "code",
        "colab": {}
      },
      "source": [
        "def classify(df):\n",
        "    df['HD'] = list(map(lambda i: 'H' if i>1.3 else 'D' if i<10/13 else np.nan, df['avg_score']))\n",
        "    \n",
        "    return df\n",
        "df1 = classify(df1)"
      ],
      "execution_count": null,
      "outputs": []
    },
    {
      "cell_type": "code",
      "metadata": {
        "id": "H3t0BZHDDF_k",
        "colab_type": "code",
        "colab": {},
        "outputId": "a7a69741-ad0f-4064-d61e-683d1e23cc9c"
      },
      "source": [
        "hawkish = df1[df1['HD'] == 'H'].index\n",
        "hawkish"
      ],
      "execution_count": null,
      "outputs": [
        {
          "output_type": "execute_result",
          "data": {
            "text/plain": [
              "Index(['부채/NNG;총량/NNG;증가/NNG', '인상/NNG;급락/NNG', '인하/NNG;반대/NNG',\n",
              "       '차기/NNG;비둘기/NNG', '인플레이션/NNG;우려/NNG;증폭/NNG', '소비자/NNG;이자/NNG;부담/NNG',\n",
              "       'fed/NNG;인플레이션/NNG;방어/NNG', '경제/NNG;회복/NNG;인플레이션/NNG;압력/NNG',\n",
              "       '은행채/NNG;스프레드/NNG;고점/NNG', '지표물/NNG;상승/NNG',\n",
              "       ...\n",
              "       '실적발표/NNG;혼조/NNG', '정책/NNG;최대/NNG', '하락/NNG;예상/NNG;작/VA',\n",
              "       '부동산/NNG;거래/NNG;줄/VV', '가격/NNG;감소/NNG', '부정적/VAX;효과/NNG;제한적/VAX',\n",
              "       '완화/NNG;시장/NNG;금리/NNG;하락/NNG', '신용위험/NNG;불안/NNG', '매출/NNG;전망/NNG;낮/VV',\n",
              "       '스티프닝/NNG;우세/NNG'],\n",
              "      dtype='object', name='ngram', length=14475)"
            ]
          },
          "metadata": {
            "tags": []
          },
          "execution_count": 13
        }
      ]
    },
    {
      "cell_type": "code",
      "metadata": {
        "id": "OcFI4JA9DF_m",
        "colab_type": "code",
        "colab": {},
        "outputId": "6f3b9ecf-71c8-41e2-ff7b-017c36cd16f8"
      },
      "source": [
        "dovish = df1[df1['HD'] == 'D'].index\n",
        "dovish"
      ],
      "execution_count": null,
      "outputs": [
        {
          "output_type": "execute_result",
          "data": {
            "text/plain": [
              "Index(['우려/NNG;경기/NNG;불확실성/NNG', '부채/NNG;한도/NNG;상향/NNG', '전망/NNG;완화/NNG',\n",
              "       '유가/NNG;상승/NNG;힘입/VV;오르/VV', '미/NNG;재정절벽/NNG;우려/NNG',\n",
              "       '금리/NNG;불확실성/NNG;해소/NNG', '지준/NNG;증가/NNG',\n",
              "       '지준율/NNG;인상/NNG;통화/NNG;긴축/NNG', '출구전략/NNG;시행/NNG;시기상조/NNG',\n",
              "       '글로벌/NNG;수요/NNG;회복/NNG',\n",
              "       ...\n",
              "       '최악/NNG;적자/NNG', '어렵/VA;양적완화/NNG', '실적시즌/NNG;부담/NNG',\n",
              "       '채권시장/NNG;비둘기/NNG', '지표/NNG;매파/NNG', '잠재/NNG;금리/NNG;인상/NNG',\n",
              "       '종료/NNG;늦/VV', '스무딩오퍼레이션/NNG;미세조정/NNG;경계/NNG;확산/NNG',\n",
              "       'crs/NNG;금리/NNG;상승/NNG', '개선/NNG;속도/NNG;더디/VA'],\n",
              "      dtype='object', name='ngram', length=9371)"
            ]
          },
          "metadata": {
            "tags": []
          },
          "execution_count": 14
        }
      ]
    },
    {
      "cell_type": "code",
      "metadata": {
        "id": "mzuiu9SDDF_o",
        "colab_type": "code",
        "colab": {}
      },
      "source": [
        "import datetime\n",
        "test_data = pd.read_json(r\"C:\\Users\\dhsmi\\Downloads\\test_ngram_datas.json\")\n",
        "test_data['ngram'] = list(map(lambda i : i.split(','), test_data['ngram']))\n",
        "test_data['date'] = list(map(lambda i : i.date(), test_data['date']))\n",
        "test_data = test_data[test_data['date']<= datetime.date(2017,12,31)]"
      ],
      "execution_count": null,
      "outputs": []
    },
    {
      "cell_type": "code",
      "metadata": {
        "id": "IaIlx8TeDF_q",
        "colab_type": "code",
        "colab": {},
        "outputId": "2e209caa-9626-4a51-edf4-9d0d75cf8c34"
      },
      "source": [
        "test_data # 의사록 n-gram(testdata)"
      ],
      "execution_count": null,
      "outputs": [
        {
          "output_type": "execute_result",
          "data": {
            "text/html": [
              "<div>\n",
              "<style scoped>\n",
              "    .dataframe tbody tr th:only-of-type {\n",
              "        vertical-align: middle;\n",
              "    }\n",
              "\n",
              "    .dataframe tbody tr th {\n",
              "        vertical-align: top;\n",
              "    }\n",
              "\n",
              "    .dataframe thead th {\n",
              "        text-align: right;\n",
              "    }\n",
              "</style>\n",
              "<table border=\"1\" class=\"dataframe\">\n",
              "  <thead>\n",
              "    <tr style=\"text-align: right;\">\n",
              "      <th></th>\n",
              "      <th>date</th>\n",
              "      <th>ngram</th>\n",
              "    </tr>\n",
              "  </thead>\n",
              "  <tbody>\n",
              "    <tr>\n",
              "      <th>6251</th>\n",
              "      <td>2017-12-28</td>\n",
              "      <td>[물가/NNG;안정/NNG]</td>\n",
              "    </tr>\n",
              "    <tr>\n",
              "      <th>6252</th>\n",
              "      <td>2017-12-28</td>\n",
              "      <td>[금융안정/NNG;위험/NNG, 위험/NNG;성장/NNG]</td>\n",
              "    </tr>\n",
              "    <tr>\n",
              "      <th>6253</th>\n",
              "      <td>2017-12-28</td>\n",
              "      <td>[통화정책/NNG;완화/NNG]</td>\n",
              "    </tr>\n",
              "    <tr>\n",
              "      <th>6254</th>\n",
              "      <td>2017-12-28</td>\n",
              "      <td>[금융시스템/NNG;안정/NNG]</td>\n",
              "    </tr>\n",
              "    <tr>\n",
              "      <th>6255</th>\n",
              "      <td>2017-12-14</td>\n",
              "      <td>[금융안정/NNG]</td>\n",
              "    </tr>\n",
              "    <tr>\n",
              "      <th>...</th>\n",
              "      <td>...</td>\n",
              "      <td>...</td>\n",
              "    </tr>\n",
              "    <tr>\n",
              "      <th>29417</th>\n",
              "      <td>2005-05-12</td>\n",
              "      <td>[둔화/NNG;경제/NNG;지표/NNG;부진/NNG, 지수/NNG;경제/NNG;지표...</td>\n",
              "    </tr>\n",
              "    <tr>\n",
              "      <th>29418</th>\n",
              "      <td>2005-05-12</td>\n",
              "      <td>[기업/NNG;실적/NNG;부진/NNG;하락/NNG, 우려/NNG;기업/NNG;실적...</td>\n",
              "    </tr>\n",
              "    <tr>\n",
              "      <th>29419</th>\n",
              "      <td>2005-05-12</td>\n",
              "      <td>[금리/NNG;인상/NNG;전망/NNG;상승/NNG, 유로존/NNG;경제/NNG;부...</td>\n",
              "    </tr>\n",
              "    <tr>\n",
              "      <th>29420</th>\n",
              "      <td>2005-05-12</td>\n",
              "      <td>[금리/NNG;경제/NNG;지표/NNG;부진/NNG;하락/NNG, 안전자산/NNG;...</td>\n",
              "    </tr>\n",
              "    <tr>\n",
              "      <th>29421</th>\n",
              "      <td>2005-05-12</td>\n",
              "      <td>[부진/NNG;글로벌/NNG;경기/NNG;둔화/NNG;우려/NNG, 중소기업/NNG...</td>\n",
              "    </tr>\n",
              "  </tbody>\n",
              "</table>\n",
              "<p>23171 rows × 2 columns</p>\n",
              "</div>"
            ],
            "text/plain": [
              "             date                                              ngram\n",
              "6251   2017-12-28                                    [물가/NNG;안정/NNG]\n",
              "6252   2017-12-28                   [금융안정/NNG;위험/NNG, 위험/NNG;성장/NNG]\n",
              "6253   2017-12-28                                  [통화정책/NNG;완화/NNG]\n",
              "6254   2017-12-28                                 [금융시스템/NNG;안정/NNG]\n",
              "6255   2017-12-14                                         [금융안정/NNG]\n",
              "...           ...                                                ...\n",
              "29417  2005-05-12  [둔화/NNG;경제/NNG;지표/NNG;부진/NNG, 지수/NNG;경제/NNG;지표...\n",
              "29418  2005-05-12  [기업/NNG;실적/NNG;부진/NNG;하락/NNG, 우려/NNG;기업/NNG;실적...\n",
              "29419  2005-05-12  [금리/NNG;인상/NNG;전망/NNG;상승/NNG, 유로존/NNG;경제/NNG;부...\n",
              "29420  2005-05-12  [금리/NNG;경제/NNG;지표/NNG;부진/NNG;하락/NNG, 안전자산/NNG;...\n",
              "29421  2005-05-12  [부진/NNG;글로벌/NNG;경기/NNG;둔화/NNG;우려/NNG, 중소기업/NNG...\n",
              "\n",
              "[23171 rows x 2 columns]"
            ]
          },
          "metadata": {
            "tags": []
          },
          "execution_count": 60
        }
      ]
    },
    {
      "cell_type": "code",
      "metadata": {
        "id": "WE8AtRcfDF_s",
        "colab_type": "code",
        "colab": {}
      },
      "source": [
        "test_date_list = list(set(list(test_data['date'])))\n",
        "final_test = pd.DataFrame(test_date_list, columns=['date'])\n",
        "\n",
        "final_test.set_index('date', inplace=True)\n",
        "final_test.sort_index(inplace=True)\n",
        "\n",
        "# Ngram 하루에 합침 (최종 테스트 데이터)\n",
        "final_test['ngram'] = list(map(lambda i : list(itertools.chain(*test_data[test_data['date'] == i]['ngram'])), test_date_list))"
      ],
      "execution_count": null,
      "outputs": []
    },
    {
      "cell_type": "code",
      "metadata": {
        "id": "hPSS97VcDF_u",
        "colab_type": "code",
        "colab": {}
      },
      "source": [
        "# hawkish, dovish 사전 필요\n",
        "# 0으로 나눠지는 값의 의미 = hawkish, dovish 사전에 아예 없음을 의미함\n",
        "# 해당 부분은 드랍하는 것이 맞을 듯\n",
        "def tone_sent(x):\n",
        "    a = 0\n",
        "    b = 0\n",
        "    for ngram in x:\n",
        "        if ngram in hawkish:\n",
        "            a += 1\n",
        "        elif ngram in dovish:\n",
        "            b += 1\n",
        "    if a+b < 5:\n",
        "        return np.nan\n",
        "    try:\n",
        "        return (a-b) / (a+b)\n",
        "    except:\n",
        "        return np.nan"
      ],
      "execution_count": null,
      "outputs": []
    },
    {
      "cell_type": "code",
      "metadata": {
        "id": "lfqNAc_bDF_w",
        "colab_type": "code",
        "colab": {},
        "outputId": "6f04d480-08aa-4e7b-9f26-1a6640967d87"
      },
      "source": [
        "test_data['tone'] = list(map(tone_sent, test_data['ngram']))\n",
        "test_data.dropna(inplace=True)\n",
        "# 0은 중립\n",
        "test_data['HD'] = list(map(lambda i : 'H' if i > 0 else 'D' if i < 0 else np.nan, test_data['tone']))\n",
        "test_data.dropna(inplace=True)\n",
        "test_data['H'] = list(map(lambda i : 1 if i == 'H' else 0, test_data['HD']))\n",
        "test_data['D'] = list(map(lambda i : 1 if i == 'D' else 0, test_data['HD']))\n",
        "final_tone = test_data.groupby('date').sum()[['H','D']]\n",
        "final_tone['tone'] = (final_tone['H'] - final_tone['D']) / (final_tone['H'] + final_tone['D'])\n",
        "\n",
        "sr_df = pd.read_json(r\"C:\\Users\\dhsmi\\Downloads\\standard_rate.json\").set_index('date')\n",
        "final_tone['rate'] = sr_df['rate']\n",
        "corr = final_tone[['tone','rate']].corr(method = 'pearson')\n",
        "print(corr)"
      ],
      "execution_count": null,
      "outputs": [
        {
          "output_type": "stream",
          "text": [
            "          tone      rate\n",
            "tone  1.000000  0.494452\n",
            "rate  0.494452  1.000000\n"
          ],
          "name": "stdout"
        }
      ]
    },
    {
      "cell_type": "code",
      "metadata": {
        "id": "O9NM8iZyDF_y",
        "colab_type": "code",
        "colab": {},
        "outputId": "c006910f-c4fb-41ab-cff1-f2df57ef55cb"
      },
      "source": [
        "# Tone 계산 (일자 Ngram 합친 문서 Tone 계산 1회)\n",
        "final_test['tone'] = list(map(tone_sent, final_test['ngram']))\n",
        "tone_data = final_test.dropna()\n",
        "tone_data['rate'] = sr_df['rate']"
      ],
      "execution_count": null,
      "outputs": [
        {
          "output_type": "stream",
          "text": [
            "<ipython-input-64-88653fbaf3df>:4: SettingWithCopyWarning: \n",
            "A value is trying to be set on a copy of a slice from a DataFrame.\n",
            "Try using .loc[row_indexer,col_indexer] = value instead\n",
            "\n",
            "See the caveats in the documentation: https://pandas.pydata.org/pandas-docs/stable/user_guide/indexing.html#returning-a-view-versus-a-copy\n",
            "  tone_data['rate'] = sr_df['rate']\n"
          ],
          "name": "stderr"
        }
      ]
    },
    {
      "cell_type": "code",
      "metadata": {
        "id": "yLnrDZOiDF_1",
        "colab_type": "code",
        "colab": {},
        "outputId": "3982a22a-bb7a-404b-c353-a3c3455fc83b"
      },
      "source": [
        "# 상관분석\n",
        "corr = tone_data[['tone','rate']].corr(method = 'pearson')\n",
        "print(corr)"
      ],
      "execution_count": null,
      "outputs": [
        {
          "output_type": "stream",
          "text": [
            "          tone      rate\n",
            "tone  1.000000  0.053279\n",
            "rate  0.053279  1.000000\n"
          ],
          "name": "stdout"
        }
      ]
    },
    {
      "cell_type": "code",
      "metadata": {
        "id": "tQn71BE-DF_3",
        "colab_type": "code",
        "colab": {},
        "outputId": "d56a3479-b28c-4052-b860-52c360dea723"
      },
      "source": [
        "#Scaler\n",
        "# MaxAbsScaler RobustScaler StandardScaler MinMaxScaler\n",
        "import pandas as pd\n",
        "from sklearn import preprocessing\n",
        "x = final_tone['rate'].values.reshape(-1, 1) #returns a numpy array\n",
        "scaler = preprocessing.RobustScaler()\n",
        "x_scaled = scaler.fit_transform(x)\n",
        "final_tone['rate'] = x_scaled\n",
        "\n",
        "import matplotlib.pyplot as plt\n",
        "plt.plot(final_tone[(final_tone['tone'] != 1) & (final_tone['tone'] != -1)]['tone'])\n",
        "plt.plot(final_tone[(final_tone['tone'] != 1) & (final_tone['tone'] != -1)]['rate'])\n",
        "plt.show()"
      ],
      "execution_count": null,
      "outputs": [
        {
          "output_type": "display_data",
          "data": {
            "image/png": "[encoded data removed]",
            "text/plain": [
              "<Figure size 432x288 with 1 Axes>"
            ]
          },
          "metadata": {
            "tags": [],
            "needs_background": "light"
          }
        }
      ]
    },
    {
      "cell_type": "code",
      "metadata": {
        "id": "rsVe5e16DF_5",
        "colab_type": "code",
        "colab": {},
        "outputId": "638bafe3-23fb-4316-b27f-1b0b257a506b"
      },
      "source": [
        "-"
      ],
      "execution_count": null,
      "outputs": [
        {
          "output_type": "error",
          "ename": "SyntaxError",
          "evalue": "invalid syntax (<ipython-input-49-60215a10e730>, line 1)",
          "traceback": [
            "\u001b[1;36m  File \u001b[1;32m\"<ipython-input-49-60215a10e730>\"\u001b[1;36m, line \u001b[1;32m1\u001b[0m\n\u001b[1;33m    -\u001b[0m\n\u001b[1;37m     ^\u001b[0m\n\u001b[1;31mSyntaxError\u001b[0m\u001b[1;31m:\u001b[0m invalid syntax\n"
          ]
        }
      ]
    },
    {
      "cell_type": "code",
      "metadata": {
        "id": "PZ6K4MgEDF_7",
        "colab_type": "code",
        "colab": {}
      },
      "source": [
        ""
      ],
      "execution_count": null,
      "outputs": []
    },
    {
      "cell_type": "code",
      "metadata": {
        "id": "cEZPS1tIDF_9",
        "colab_type": "code",
        "colab": {}
      },
      "source": [
        ""
      ],
      "execution_count": null,
      "outputs": []
    },
    {
      "cell_type": "code",
      "metadata": {
        "id": "W20MNDZeDF__",
        "colab_type": "code",
        "colab": {}
      },
      "source": [
        ""
      ],
      "execution_count": null,
      "outputs": []
    },
    {
      "cell_type": "code",
      "metadata": {
        "id": "KgokwMQ-DGAC",
        "colab_type": "code",
        "colab": {}
      },
      "source": [
        "#  데이터 부르기\n",
        "test_data = pd.read_json(r'C:\\Users\\dhsmi\\Downloads\\test_ngram_datas.json')\n",
        "test_data['ngram'] = list(map(lambda i : i.split(','), test_data['ngram']))\n",
        "test_data['date'] = list(map(lambda i : i.date(), test_data['date']))\n",
        "test_data = test_data[test_data['date']<= datetime.date(2017,12,31)]\n",
        "test_data"
      ],
      "execution_count": null,
      "outputs": []
    },
    {
      "cell_type": "code",
      "metadata": {
        "id": "T4JBDLaVDGAE",
        "colab_type": "code",
        "colab": {}
      },
      "source": [
        "test_data = pd.read_json(r'C:\\Users\\dhsmi\\Downloads\\test_ngram_datas.json')\n",
        "test_data['ngram'] = list(map(lambda i : i.split(','), test_data['ngram']))\n",
        "test_data['date'] = list(map(lambda i : i.date(), test_data['date']))\n",
        "test_data = test_data[test_data['date']<= datetime.date(2017,12,31)]\n",
        "# hawkish, dovish 사전 필요\n",
        "# 0으로 나눠지는 값의 의미 = hawkish, dovish 사전에 아예 없음을 의미함\n",
        "# 해당 부분은 드랍하는 것이 맞을 듯\n",
        "\n",
        "def tone_sent(x):\n",
        "    a = 0\n",
        "    b = 0\n",
        "    for ngram in x:\n",
        "        if ngram in hawkish:\n",
        "            a += 1\n",
        "        elif ngram in dovish:\n",
        "            b += 1\n",
        "    try:\n",
        "        return (a-b) / (a+b)\n",
        "    except:\n",
        "        return np.nan\n",
        "test_data['tone'] = list(map(tone_sent, test_data['ngram']))\n",
        "test_data.dropna(inplace=True)\n",
        "# 0은 중립\n",
        "test_data['HD'] = list(map(lambda i : 'H' if i > 0 else 'D' if i < 0 else np.nan, test_data['tone']))\n",
        "test_data.dropna(inplace=True)\n",
        "test_data['H'] = list(map(lambda i : 1 if i == 'H' else 0, test_data['HD']))\n",
        "test_data['D'] = list(map(lambda i : 1 if i == 'D' else 0, test_data['HD']))\n",
        "final_tone = test_data.groupby('date').sum()[['H','D']]\n",
        "final_tone['tone'] = (final_tone['H'] - final_tone['D']) / (final_tone['H'] + final_tone['D'])\n",
        "sr_df = pd.read_json('standard_rate.json').set_index('date')\n",
        "final_tone['rate'] = sr_df['rate']\n",
        "corr = final_tone[['tone','rate']].corr(method = 'pearson')\n",
        "print(corr)\n",
        "import matplotlib.pyplot as plt\n",
        "plt.plot(final_tone['tone'])\n",
        "def norm(x):\n",
        "    if x - final_tone['rate'].mean() > 0:\n",
        "        (x - final_tone['rate'].mean()) / (final_tone['rate'].max() - final_tone['rate'].mean())\n",
        "    else:\n",
        "        (x - final_tone['rate'].mean()) / (final_tone['rate'].mean() - final_tone['rate'].min())\n",
        "final_tone['norm_rate'] = list(map(norm, final_tone['rate']))\n",
        "plt.plot(final_tone['norm_rate'])\n",
        "plt.show()\n",
        "\n"
      ],
      "execution_count": null,
      "outputs": []
    },
    {
      "cell_type": "code",
      "metadata": {
        "id": "bBHfazieDGAF",
        "colab_type": "code",
        "colab": {}
      },
      "source": [
        "# ngram, ud 뽑"
      ],
      "execution_count": null,
      "outputs": []
    },
    {
      "cell_type": "code",
      "metadata": {
        "id": "kA8yceq4DGAH",
        "colab_type": "code",
        "colab": {}
      },
      "source": [
        "# 클래스 호출\n",
        "ncb = NBC()\n",
        "# date = nbc\n",
        "# datatransformser 써서 데이터변경 "
      ],
      "execution_count": null,
      "outputs": []
    },
    {
      "cell_type": "code",
      "metadata": {
        "id": "WySgnuPIDGAJ",
        "colab_type": "code",
        "colab": {}
      },
      "source": [
        ""
      ],
      "execution_count": null,
      "outputs": []
    },
    {
      "cell_type": "code",
      "metadata": {
        "id": "XKNXpnwaDGAL",
        "colab_type": "code",
        "colab": {}
      },
      "source": [
        "# 의사록 데이터\n",
        "test_data = pd.read_json(r'C:\\Users\\student\\Desktop\\newsdata\\test_ngram_datas.json')\n",
        "\n",
        "\n",
        "test_data['ngram'] = list(map(lambda i : i.split(','), test_data['ngram']))\n",
        "test_data['date'] = list(map(lambda i : i.date(), test_data['date']))\n",
        "test_data = test_data[test_data['date']<= datetime.date(2017,12,31)]\n",
        "# hawkish, dovish 사전 필요\n",
        "# 0으로 나눠지는 값의 의미 = hawkish, dovish 사전에 아예 없음을 의미함\n",
        "# 해당 부분은 드랍하는 것이 맞을 듯\n",
        "def tone_sent(x):\n",
        "    a = 0\n",
        "    b = 0\n",
        "    for ngram in x:\n",
        "        if ngram in ppp[ppp['avg_score']>1.3].index:\n",
        "            a += 1\n",
        "        elif ngram in ppp[ppp['avg_score']<(10/13)].index:\n",
        "            b += 1\n",
        "    try:\n",
        "        return (a-b) / (a+b)\n",
        "    except:\n",
        "        return np.nan\n",
        "test_data['tone'] = list(map(tone_sent, test_data['ngram']))\n",
        "test_data.dropna(inplace=True)\n",
        "# 0은 중립\n",
        "test_data['HD'] = list(map(lambda i : 'H' if i > 0 else 'D' if i < 0 else np.nan, test_data['tone']))\n",
        "test_data.dropna(inplace=True)\n",
        "test_data['H'] = list(map(lambda i : 1 if i == 'H' else 0, test_data['HD']))\n",
        "test_data['D'] = list(map(lambda i : 1 if i == 'D' else 0, test_data['HD']))\n",
        "final_tone = test_data.groupby('date').sum()[['H','D']]\n",
        "final_tone['tone'] = (final_tone['H'] - final_tone['D']) / (final_tone['H'] + final_tone['D'])\n",
        "sr_df = pd.read_json(r'C:\\Users\\student\\Desktop\\newsdata\\rate\\standard_rate.json').set_index('date')\n",
        "final_tone['rate'] = sr_df['rate']\n",
        "corr = final_tone[['tone','rate']].corr(method = 'pearson')\n",
        "print(corr)\n",
        "import matplotlib.pyplot as plt\n",
        "plt.plot(final_tone['tone'])\n",
        "def norm(x):\n",
        "    if x - final_tone['rate'].mean() > 0:\n",
        "        (x - final_tone['rate'].mean()) / (final_tone['rate'].max() - final_tone['rate'].mean())\n",
        "    else:\n",
        "        (x - final_tone['rate'].mean()) / (final_tone['rate'].mean() - final_tone['rate'].min())\n",
        "final_tone['norm_rate'] = list(map(norm, final_tone['rate']))\n",
        "plt.plot(final_tone['norm_rate'])\n",
        "plt.show()"
      ],
      "execution_count": null,
      "outputs": []
    },
    {
      "cell_type": "code",
      "metadata": {
        "id": "2K3lQdXTDGAM",
        "colab_type": "code",
        "colab": {}
      },
      "source": [
        ""
      ],
      "execution_count": null,
      "outputs": []
    },
    {
      "cell_type": "code",
      "metadata": {
        "id": "e-5voTtnDGAN",
        "colab_type": "code",
        "colab": {}
      },
      "source": [
        ""
      ],
      "execution_count": null,
      "outputs": []
    },
    {
      "cell_type": "code",
      "metadata": {
        "id": "TASOphaDDGAP",
        "colab_type": "code",
        "colab": {}
      },
      "source": [
        ""
      ],
      "execution_count": null,
      "outputs": []
    },
    {
      "cell_type": "code",
      "metadata": {
        "id": "Fucqk-VUDGAR",
        "colab_type": "code",
        "colab": {}
      },
      "source": [
        ""
      ],
      "execution_count": null,
      "outputs": []
    },
    {
      "cell_type": "code",
      "metadata": {
        "id": "UX7JO2mgDGAS",
        "colab_type": "code",
        "colab": {}
      },
      "source": [
        ""
      ],
      "execution_count": null,
      "outputs": []
    },
    {
      "cell_type": "code",
      "metadata": {
        "id": "rscfQFJfDGAU",
        "colab_type": "code",
        "colab": {}
      },
      "source": [
        ""
      ],
      "execution_count": null,
      "outputs": []
    },
    {
      "cell_type": "code",
      "metadata": {
        "id": "GeS9UXw7DGAV",
        "colab_type": "code",
        "colab": {}
      },
      "source": [
        ""
      ],
      "execution_count": null,
      "outputs": []
    },
    {
      "cell_type": "code",
      "metadata": {
        "id": "_181YKo_DGAX",
        "colab_type": "code",
        "colab": {}
      },
      "source": [
        ""
      ],
      "execution_count": null,
      "outputs": []
    },
    {
      "cell_type": "code",
      "metadata": {
        "id": "-R8J-W2oDGAY",
        "colab_type": "code",
        "colab": {}
      },
      "source": [
        ""
      ],
      "execution_count": null,
      "outputs": []
    },
    {
      "cell_type": "code",
      "metadata": {
        "id": "Nk2QTZmsDGAa",
        "colab_type": "code",
        "colab": {}
      },
      "source": [
        ""
      ],
      "execution_count": null,
      "outputs": []
    },
    {
      "cell_type": "code",
      "metadata": {
        "id": "EcnHNsbFDGAc",
        "colab_type": "code",
        "colab": {}
      },
      "source": [
        ""
      ],
      "execution_count": null,
      "outputs": []
    },
    {
      "cell_type": "code",
      "metadata": {
        "id": "MkVkZ0LqDGAe",
        "colab_type": "code",
        "colab": {}
      },
      "source": [
        ""
      ],
      "execution_count": null,
      "outputs": []
    },
    {
      "cell_type": "code",
      "metadata": {
        "id": "7cvSnqv4DGAh",
        "colab_type": "code",
        "colab": {}
      },
      "source": [
        ""
      ],
      "execution_count": null,
      "outputs": []
    },
    {
      "cell_type": "code",
      "metadata": {
        "id": "uMWIC1R6DGAi",
        "colab_type": "code",
        "colab": {}
      },
      "source": [
        ""
      ],
      "execution_count": null,
      "outputs": []
    },
    {
      "cell_type": "code",
      "metadata": {
        "id": "JwflGB2EDGAk",
        "colab_type": "code",
        "colab": {}
      },
      "source": [
        ""
      ],
      "execution_count": null,
      "outputs": []
    },
    {
      "cell_type": "code",
      "metadata": {
        "id": "T1gU-axgDGAn",
        "colab_type": "code",
        "colab": {}
      },
      "source": [
        ""
      ],
      "execution_count": null,
      "outputs": []
    },
    {
      "cell_type": "code",
      "metadata": {
        "id": "hS6YtGfZDGAo",
        "colab_type": "code",
        "colab": {}
      },
      "source": [
        ""
      ],
      "execution_count": null,
      "outputs": []
    },
    {
      "cell_type": "code",
      "metadata": {
        "id": "eXg2lMhZDGAq",
        "colab_type": "code",
        "colab": {}
      },
      "source": [
        ""
      ],
      "execution_count": null,
      "outputs": []
    },
    {
      "cell_type": "code",
      "metadata": {
        "id": "CfpP2216DGAt",
        "colab_type": "code",
        "colab": {}
      },
      "source": [
        ""
      ],
      "execution_count": null,
      "outputs": []
    },
    {
      "cell_type": "code",
      "metadata": {
        "id": "esO6Twv8DGAx",
        "colab_type": "code",
        "colab": {}
      },
      "source": [
        ""
      ],
      "execution_count": null,
      "outputs": []
    },
    {
      "cell_type": "code",
      "metadata": {
        "id": "EIPIQkR5DGA3",
        "colab_type": "code",
        "colab": {}
      },
      "source": [
        ""
      ],
      "execution_count": null,
      "outputs": []
    },
    {
      "cell_type": "code",
      "metadata": {
        "id": "_G8wSuXVDGA6",
        "colab_type": "code",
        "colab": {}
      },
      "source": [
        ""
      ],
      "execution_count": null,
      "outputs": []
    },
    {
      "cell_type": "code",
      "metadata": {
        "id": "7U_1wrGDDGA9",
        "colab_type": "code",
        "colab": {}
      },
      "source": [
        ""
      ],
      "execution_count": null,
      "outputs": []
    },
    {
      "cell_type": "code",
      "metadata": {
        "id": "RprevHLIDGBB",
        "colab_type": "code",
        "colab": {}
      },
      "source": [
        ""
      ],
      "execution_count": null,
      "outputs": []
    },
    {
      "cell_type": "code",
      "metadata": {
        "id": "EKqfPgalDGBD",
        "colab_type": "code",
        "colab": {}
      },
      "source": [
        ""
      ],
      "execution_count": null,
      "outputs": []
    },
    {
      "cell_type": "code",
      "metadata": {
        "id": "n_RNUvWODGBF",
        "colab_type": "code",
        "colab": {}
      },
      "source": [
        ""
      ],
      "execution_count": null,
      "outputs": []
    },
    {
      "cell_type": "code",
      "metadata": {
        "id": "I4VtLw0xDGBH",
        "colab_type": "code",
        "colab": {}
      },
      "source": [
        ""
      ],
      "execution_count": null,
      "outputs": []
    },
    {
      "cell_type": "code",
      "metadata": {
        "id": "ZP97ZQWoDGBK",
        "colab_type": "code",
        "colab": {}
      },
      "source": [
        ""
      ],
      "execution_count": null,
      "outputs": []
    },
    {
      "cell_type": "code",
      "metadata": {
        "id": "SYV4x3PJDGBM",
        "colab_type": "code",
        "colab": {}
      },
      "source": [
        ""
      ],
      "execution_count": null,
      "outputs": []
    },
    {
      "cell_type": "code",
      "metadata": {
        "id": "vn6EXm8ADGBP",
        "colab_type": "code",
        "colab": {}
      },
      "source": [
        ""
      ],
      "execution_count": null,
      "outputs": []
    },
    {
      "cell_type": "code",
      "metadata": {
        "id": "hBIl9Z7pDGBQ",
        "colab_type": "code",
        "colab": {}
      },
      "source": [
        ""
      ],
      "execution_count": null,
      "outputs": []
    },
    {
      "cell_type": "code",
      "metadata": {
        "id": "sD_JpLTsDGBS",
        "colab_type": "code",
        "colab": {}
      },
      "source": [
        ""
      ],
      "execution_count": null,
      "outputs": []
    },
    {
      "cell_type": "code",
      "metadata": {
        "id": "X4arEY-WDGBT",
        "colab_type": "code",
        "colab": {}
      },
      "source": [
        ""
      ],
      "execution_count": null,
      "outputs": []
    },
    {
      "cell_type": "code",
      "metadata": {
        "id": "xT158zveDGBV",
        "colab_type": "code",
        "colab": {}
      },
      "source": [
        ""
      ],
      "execution_count": null,
      "outputs": []
    },
    {
      "cell_type": "code",
      "metadata": {
        "id": "9QBrAKhgDGBW",
        "colab_type": "code",
        "colab": {}
      },
      "source": [
        ""
      ],
      "execution_count": null,
      "outputs": []
    },
    {
      "cell_type": "code",
      "metadata": {
        "id": "31fqonGwDGBa",
        "colab_type": "code",
        "colab": {}
      },
      "source": [
        ""
      ],
      "execution_count": null,
      "outputs": []
    }
  ]
}