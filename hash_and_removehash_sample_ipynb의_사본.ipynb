{
  "nbformat": 4,
  "nbformat_minor": 0,
  "metadata": {
    "colab": {
      "name": "hash_and_removehash_sample.ipynb의 사본",
      "provenance": [],
      "collapsed_sections": [],
      "authorship_tag": "ABX9TyNRwzjz3gREPEK0yGFVVK+8",
      "include_colab_link": true
    },
    "kernelspec": {
      "name": "python3",
      "display_name": "Python 3"
    }
  },
  "cells": [
    {
      "cell_type": "markdown",
      "metadata": {
        "id": "view-in-github",
        "colab_type": "text"
      },
      "source": [
        "<a href=\"https://colab.research.google.com/github/dohyun-kim92/TIL/blob/master/hash_and_removehash_sample_ipynb%EC%9D%98_%EC%82%AC%EB%B3%B8.ipynb\" target=\"_parent\"><img src=\"https://colab.research.google.com/assets/colab-badge.svg\" alt=\"Open In Colab\"/></a>"
      ]
    },
    {
      "cell_type": "code",
      "metadata": {
        "id": "pdhRK8vYgHbt",
        "colab_type": "code",
        "colab": {}
      },
      "source": [
        "import pandas as pd\n",
        "import json\n",
        "import re\n"
      ],
      "execution_count": null,
      "outputs": []
    },
    {
      "cell_type": "code",
      "metadata": {
        "id": "i1c594g2gcxn",
        "colab_type": "code",
        "colab": {}
      },
      "source": [
        "content = ['남자 샤워실 인줄😱',\n",
        " '해도해도안질리는 물놀이 🤔\\n.\\n.\\n.\\n.\\n#휴가 #태닝 #계곡 \\n#라면 #5개먹은건안비밀',\n",
        " '럽스타 그자체❤❤\\n#럽스타그램 #운동하는커플 #태닝',\n",
        " '이제 야태는 못하지만 \\n기태가 남았다❤❤\\n.\\n.\\n.\\n운동은 #멋짐휘트니스연산점 \\n태닝은 @1041_tannail',\n",
        " '섹시한 여자 와 한컷❤\\n#럽스타그램 #태닝 #운동하는커플',\n",
        " '날씨가 부르네 ☀️',\n",
        " '💯',\n",
        " '생각정리🌞\\n#태닝 #힐링 #광안리 #부산',\n",
        " '날이좋아서💯\\n#광안리 #태닝 #중독',\n",
        " '#부산 #광안리',\n",
        " '좋아🌞\\n#태닝 #광안리',\n",
        " '겨 자랑 이영\\n#벌써 #목요일 #주말 #태닝',\n",
        " '이런 등신😤\\n.\\n.\\n.\\n#등신이그등신아님',\n",
        " '좋은하루 되셨어요?\\n.\\n.\\n.\\n#좋은하루',\n",
        " '헬요일 끝 벌써주말 마렵다😱\\n.\\n.\\n.\\n#헬요일 #끝 #주말 #태닝 #go',\n",
        " '고기를 기다릴땐 눈이사라지는편\\n.\\n.\\n.\\n#해리단길 #코지 #스테이크 #맛집',\n",
        " '머리 다시 기룰까??\\n.\\n.\\n.\\n#머리스타일 #고민 #현실은 #까까머리',\n",
        " '몸이 흰둥이네 🐩\\n같이태닝하실분✋',\n",
        " '사람은 행복하기로\\n마음먹은 만큼 행복한다.',\n",
        " '주말에 태닝해야되는데 비안오길🌤\\n.\\n.\\n.\\n#태닝 #광안리 #해운대 #옥상 #어디갈까',\n",
        " '어차피 피곤하게 사는인생 조금더 피곤하지뭐\\U0001f971\\n.\\n.\\n.\\n#연산동pt #연산동헬스 #연산동멋짐',\n",
        " '복근밥 먹고싶다🤪',\n",
        " '물에 빠지고싶은 날씨😱']"
      ],
      "execution_count": null,
      "outputs": []
    },
    {
      "cell_type": "code",
      "metadata": {
        "id": "9D9sI1IHgjiw",
        "colab_type": "code",
        "colab": {}
      },
      "source": [
        "re.findall('\\#[\\w가-힣a-zA-Z0-9]*', content[1])  #test\n",
        "hash = []\n",
        "hash_remove_content = []\n",
        "for i in range(len(content)):        \n",
        "    if re.findall('\\#[\\w가-힣a-zA-Z0-9]*', content[i]):\n",
        "        hash.append(re.findall('\\#[\\w가-힣a-zA-Z0-9]*', content[i]))\n",
        "        # print(i, re.findall('\\#[\\w가-힣a-zA-Z0-9]*', content[i]))\n",
        "    hash_remove_content.append(re.sub('\\#[\\w가-힣a-zA-Z0-9]*',\"\",content[i]))"
      ],
      "execution_count": null,
      "outputs": []
    },
    {
      "cell_type": "code",
      "metadata": {
        "id": "9OSYo8DuM-05",
        "colab_type": "code",
        "colab": {
          "base_uri": "https://localhost:8080/",
          "height": 298
        },
        "outputId": "4f6a77bd-8754-4ea3-8ce4-ab634019123d"
      },
      "source": [
        "hash"
      ],
      "execution_count": null,
      "outputs": [
        {
          "output_type": "execute_result",
          "data": {
            "text/plain": [
              "[['#휴가', '#태닝', '#계곡', '#라면', '#5개먹은건안비밀'],\n",
              " ['#럽스타그램', '#운동하는커플', '#태닝'],\n",
              " ['#멋짐휘트니스연산점'],\n",
              " ['#럽스타그램', '#태닝', '#운동하는커플'],\n",
              " ['#태닝', '#힐링', '#광안리', '#부산'],\n",
              " ['#광안리', '#태닝', '#중독'],\n",
              " ['#부산', '#광안리'],\n",
              " ['#태닝', '#광안리'],\n",
              " ['#벌써', '#목요일', '#주말', '#태닝'],\n",
              " ['#등신이그등신아님'],\n",
              " ['#좋은하루'],\n",
              " ['#헬요일', '#끝', '#주말', '#태닝', '#go'],\n",
              " ['#해리단길', '#코지', '#스테이크', '#맛집'],\n",
              " ['#머리스타일', '#고민', '#현실은', '#까까머리'],\n",
              " ['#태닝', '#광안리', '#해운대', '#옥상', '#어디갈까'],\n",
              " ['#연산동pt', '#연산동헬스', '#연산동멋짐']]"
            ]
          },
          "metadata": {
            "tags": []
          },
          "execution_count": 131
        }
      ]
    },
    {
      "cell_type": "code",
      "metadata": {
        "id": "WuUTEQyrNCKh",
        "colab_type": "code",
        "colab": {
          "base_uri": "https://localhost:8080/",
          "height": 422
        },
        "outputId": "4e8c3525-1ad2-47cc-cd56-f29961b7cf1b"
      },
      "source": [
        "hash_remove_content"
      ],
      "execution_count": null,
      "outputs": [
        {
          "output_type": "execute_result",
          "data": {
            "text/plain": [
              "['남자 샤워실 인줄😱',\n",
              " '해도해도안질리는 물놀이 🤔\\n.\\n.\\n.\\n.\\n   \\n ',\n",
              " '럽스타 그자체❤❤\\n  ',\n",
              " '이제 야태는 못하지만 \\n기태가 남았다❤❤\\n.\\n.\\n.\\n운동은  \\n태닝은 @1041_tannail',\n",
              " '섹시한 여자 와 한컷❤\\n  ',\n",
              " '날씨가 부르네 ☀️',\n",
              " '💯',\n",
              " '생각정리🌞\\n   ',\n",
              " '날이좋아서💯\\n  ',\n",
              " ' ',\n",
              " '좋아🌞\\n ',\n",
              " '겨 자랑 이영\\n   ',\n",
              " '이런 등신😤\\n.\\n.\\n.\\n',\n",
              " '좋은하루 되셨어요?\\n.\\n.\\n.\\n',\n",
              " '헬요일 끝 벌써주말 마렵다😱\\n.\\n.\\n.\\n    ',\n",
              " '고기를 기다릴땐 눈이사라지는편\\n.\\n.\\n.\\n   ',\n",
              " '머리 다시 기룰까??\\n.\\n.\\n.\\n   ',\n",
              " '몸이 흰둥이네 🐩\\n같이태닝하실분✋',\n",
              " '사람은 행복하기로\\n마음먹은 만큼 행복한다.',\n",
              " '주말에 태닝해야되는데 비안오길🌤\\n.\\n.\\n.\\n    ',\n",
              " '어차피 피곤하게 사는인생 조금더 피곤하지뭐\\U0001f971\\n.\\n.\\n.\\n  ',\n",
              " '복근밥 먹고싶다\\U0001f92a',\n",
              " '물에 빠지고싶은 날씨😱']"
            ]
          },
          "metadata": {
            "tags": []
          },
          "execution_count": 132
        }
      ]
    },
    {
      "cell_type": "code",
      "metadata": {
        "id": "m-klNYY1hFSE",
        "colab_type": "code",
        "colab": {}
      },
      "source": [
        ""
      ],
      "execution_count": null,
      "outputs": []
    },
    {
      "cell_type": "code",
      "metadata": {
        "id": "Jxbcbvf4qZ6-",
        "colab_type": "code",
        "colab": {}
      },
      "source": [
        ""
      ],
      "execution_count": null,
      "outputs": []
    },
    {
      "cell_type": "code",
      "metadata": {
        "id": "YJ6d1v3vO5Nr",
        "colab_type": "code",
        "colab": {}
      },
      "source": [
        ""
      ],
      "execution_count": null,
      "outputs": []
    },
    {
      "cell_type": "code",
      "metadata": {
        "id": "N2IxU80AO9hc",
        "colab_type": "code",
        "colab": {}
      },
      "source": [
        ""
      ],
      "execution_count": null,
      "outputs": []
    },
    {
      "cell_type": "code",
      "metadata": {
        "id": "uaPJWBztR5w5",
        "colab_type": "code",
        "colab": {}
      },
      "source": [
        ""
      ],
      "execution_count": null,
      "outputs": []
    },
    {
      "cell_type": "code",
      "metadata": {
        "id": "CAO4KnwISLHG",
        "colab_type": "code",
        "colab": {}
      },
      "source": [
        ""
      ],
      "execution_count": null,
      "outputs": []
    },
    {
      "cell_type": "code",
      "metadata": {
        "id": "dP1XagLtSfZy",
        "colab_type": "code",
        "colab": {}
      },
      "source": [
        ""
      ],
      "execution_count": null,
      "outputs": []
    },
    {
      "cell_type": "code",
      "metadata": {
        "id": "nJhHQDosTcmK",
        "colab_type": "code",
        "colab": {}
      },
      "source": [
        ""
      ],
      "execution_count": null,
      "outputs": []
    }
  ]
}